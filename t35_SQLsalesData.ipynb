{
 "cells": [
  {
   "cell_type": "code",
   "execution_count": 1,
   "metadata": {},
   "outputs": [],
   "source": [
    "import sqlite3"
   ]
  },
  {
   "cell_type": "code",
   "execution_count": 2,
   "metadata": {},
   "outputs": [],
   "source": [
    "# working on a sales data \n",
    "connection2 = sqlite3.connect(\"t35_zSales.db\")\n",
    "cursor2 = connection2.cursor()"
   ]
  },
  {
   "cell_type": "code",
   "execution_count": 5,
   "metadata": {},
   "outputs": [],
   "source": [
    "cursor2.execute('''\n",
    "Create Table If Not Exists sales(\n",
    "        id Integer Primary Key,\n",
    "        date Text Not NULL,\n",
    "        product Text Not NULL,\n",
    "        sale Integer,\n",
    "        region Text)\n",
    "''')\n",
    "\n",
    "sales_date = [\n",
    "    ('2024-07-10','Mango',500,\"North\"),\n",
    "    ('2024-07-11','Anar',300,\"NorthEast\"),\n",
    "    ('2024-07-12','Pineapple',200,\"South\"),\n",
    "    ('2024-07-13','Apple',450,\"NorthWest\"),\n",
    "    ('2024-07-14','Plam',250,\"West\")\n",
    "]\n",
    "\n",
    "cursor2.executemany('''\n",
    "Insert Into sales(date,product,sale,region)\n",
    "    Values (?,?,?,?)\n",
    "                   \n",
    " ''',sales_date)\n",
    "\n",
    "connection2.commit()"
   ]
  },
  {
   "cell_type": "code",
   "execution_count": 7,
   "metadata": {},
   "outputs": [
    {
     "name": "stdout",
     "output_type": "stream",
     "text": [
      "(1, '2024-07-10', 'Mango', 500, 'North')\n",
      "(2, '2024-07-11', 'Anar', 300, 'NorthEast')\n",
      "(3, '2024-07-12', 'Pineapple', 200, 'South')\n",
      "(4, '2024-07-13', 'Apple', 450, 'NorthWest')\n",
      "(5, '2024-07-14', 'Plam', 250, 'West')\n"
     ]
    }
   ],
   "source": [
    "cursor2.execute(\"select * from sales\")\n",
    "rows = cursor2.fetchall()\n",
    "\n",
    "# printing the gathered data\n",
    "for row in rows:\n",
    "    print(row)"
   ]
  }
 ],
 "metadata": {
  "kernelspec": {
   "display_name": "base",
   "language": "python",
   "name": "python3"
  },
  "language_info": {
   "codemirror_mode": {
    "name": "ipython",
    "version": 3
   },
   "file_extension": ".py",
   "mimetype": "text/x-python",
   "name": "python",
   "nbconvert_exporter": "python",
   "pygments_lexer": "ipython3",
   "version": "3.11.7"
  }
 },
 "nbformat": 4,
 "nbformat_minor": 2
}
