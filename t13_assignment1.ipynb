{
 "cells": [
  {
   "cell_type": "code",
   "execution_count": 13,
   "metadata": {},
   "outputs": [
    {
     "name": "stdout",
     "output_type": "stream",
     "text": [
      "2\n",
      "4\n",
      "8\n",
      "16\n",
      "32\n",
      "64\n",
      "128\n"
     ]
    }
   ],
   "source": [
    "#printing fibonacci using recursion\n",
    "term1 =0\n",
    "term2= 1\n",
    "def fibonacci(n):\n",
    "    global term1\n",
    "    global term2\n",
    "    if n>0:\n",
    "        fibonacci(n-1)\n",
    "        term1=term2\n",
    "        term2=term1+term2\n",
    "        print(term2)\n",
    "    \n",
    "fibonacci(7)\n",
    "#this one os the wrog for printing fibonacci series"
   ]
  },
  {
   "cell_type": "code",
   "execution_count": 14,
   "metadata": {},
   "outputs": [
    {
     "name": "stdout",
     "output_type": "stream",
     "text": [
      "1\n",
      "2\n",
      "3\n",
      "5\n",
      "8\n",
      "13\n",
      "21\n"
     ]
    }
   ],
   "source": [
    "#Another code \n",
    "term1 = 0\n",
    "term2 = 1\n",
    "\n",
    "def fibonacci(n):\n",
    "    global term1\n",
    "    global term2\n",
    "    if n > 0:\n",
    "        fibonacci(n - 1)\n",
    "        term1, term2 = term2, term1 + term2\n",
    "        print(term2)\n",
    "\n",
    "# Example usage\n",
    " # Print the second term\n",
    "fibonacci(7)  # Start from the third term\n"
   ]
  },
  {
   "cell_type": "code",
   "execution_count": 15,
   "metadata": {},
   "outputs": [
    {
     "name": "stdout",
     "output_type": "stream",
     "text": [
      "Name Sourav\n",
      "Age 21\n",
      "New New World\n",
      "{'Name': 'Sourav', 'Age': 21, 'New': 'New World'}\n",
      "New 2nd one\n"
     ]
    }
   ],
   "source": [
    "#fuction with a dictionary inpurt argument\n",
    "def fun(a, b = {}):\n",
    "    b[\"New\"]=a\n",
    "    for key in b:\n",
    "        print(key,b[key])\n",
    "d = {\"Name\":\"Sourav\",\"Age\":21}\n",
    "fun(\"New World\",d)\n",
    "print(d)\n",
    "fun(\"2nd one\")"
   ]
  },
  {
   "cell_type": "code",
   "execution_count": 16,
   "metadata": {},
   "outputs": [
    {
     "name": "stdout",
     "output_type": "stream",
     "text": [
      "name Sourav\n",
      "Age 23\n",
      "Gender male\n",
      "{'Age': 23}\n"
     ]
    }
   ],
   "source": [
    "#3. Returning dictionary with only integer value\n",
    "def fun2(kargs):\n",
    "    dis={}\n",
    "    for key, value in kargs.items():\n",
    "        print(key,value)\n",
    "        if type(kargs[key])==int:\n",
    "            dis[key]=value\n",
    "    return dis\n",
    "people = {'name': 'Sourav', 'Age': 23, 'Gender': 'male'}\n",
    "\n",
    "d= fun2(people)\n",
    "print(d)"
   ]
  },
  {
   "cell_type": "code",
   "execution_count": 17,
   "metadata": {},
   "outputs": [
    {
     "name": "stdout",
     "output_type": "stream",
     "text": [
      "name Sourav\n",
      "Age 23\n",
      "Gender male\n",
      "grade 89\n",
      "cgpa 97\n",
      "{'Age': 23, 'grade': 89, 'cgpa': 97}\n"
     ]
    }
   ],
   "source": [
    "#3. Returning dictionary with only integer value in a diffrent style\n",
    "def fun2(**kargs):\n",
    "    dis={}\n",
    "    for key, value in kargs.items():\n",
    "        print(key,value)\n",
    "        if type(kargs[key])==int:\n",
    "            dis[key]=value\n",
    "    return dis\n",
    "d= fun2(name='Sourav', Age=23, Gender='male',grade=89,cgpa = 97)\n",
    "print(d)"
   ]
  },
  {
   "cell_type": "code",
   "execution_count": 18,
   "metadata": {},
   "outputs": [
    {
     "name": "stdout",
     "output_type": "stream",
     "text": [
      "81\n"
     ]
    }
   ],
   "source": [
    "#4 . A function that returns a function\n",
    "\n",
    "def ret(n):\n",
    "    return n**2\n",
    "def fun3(k):\n",
    "    return ret(k)\n",
    "\n",
    "\n",
    "s= fun3(9)\n",
    "print(s)"
   ]
  },
  {
   "cell_type": "code",
   "execution_count": 19,
   "metadata": {},
   "outputs": [
    {
     "name": "stdout",
     "output_type": "stream",
     "text": [
      "1719830700.891468\n",
      "1719830703.3778055\n",
      "333333183333354999999\n",
      "2.486337423324585\n"
     ]
    }
   ],
   "source": [
    "import time\n",
    "def func(n):\n",
    "    s_time  = time.time()\n",
    "    total = sum(i**2 for i in range(n))\n",
    "    E_time = time.time()\n",
    "    print(s_time)\n",
    "    print(E_time)\n",
    "    return total,E_time-s_time\n",
    "\n",
    "a,b = func(9999999)\n",
    "print(a)\n",
    "print(b)"
   ]
  }
 ],
 "metadata": {
  "kernelspec": {
   "display_name": "base",
   "language": "python",
   "name": "python3"
  },
  "language_info": {
   "codemirror_mode": {
    "name": "ipython",
    "version": 3
   },
   "file_extension": ".py",
   "mimetype": "text/x-python",
   "name": "python",
   "nbconvert_exporter": "python",
   "pygments_lexer": "ipython3",
   "version": "3.11.7"
  }
 },
 "nbformat": 4,
 "nbformat_minor": 2
}
