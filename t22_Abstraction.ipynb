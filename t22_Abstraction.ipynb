{
 "cells": [
  {
   "cell_type": "code",
   "execution_count": 4,
   "metadata": {},
   "outputs": [
    {
     "name": "stdout",
     "output_type": "stream",
     "text": [
      "It is a self driving car\n",
      "None\n",
      "This is in child class\n"
     ]
    }
   ],
   "source": [
    "# Abstraction is hiding complex data and showing nessary features\n",
    "from abc import ABC ,abstractmethod\n",
    "\n",
    "class vehicle(ABC):\n",
    "    def drive(self):\n",
    "        print(\"It is a self driving car\")\n",
    "    @abstractmethod\n",
    "    def abs(self):\n",
    "        print(\"This msg is from abstract class\")\n",
    "        pass\n",
    "\n",
    "class car (vehicle):\n",
    "    def abs(self):\n",
    "        return \"This is in child class\"\n",
    "\n",
    "car1 = car()\n",
    "print(car1.drive())\n",
    "print(car1.abs())"
   ]
  },
  {
   "cell_type": "markdown",
   "metadata": {},
   "source": [
    "## Magic Methods"
   ]
  },
  {
   "cell_type": "markdown",
   "metadata": {},
   "source": [
    "### The magic methods are methodds with double  underscore(__init__ this type)\n",
    "### there are several type of magic method and we can redfine them"
   ]
  },
  {
   "cell_type": "code",
   "execution_count": 5,
   "metadata": {},
   "outputs": [
    {
     "name": "stdout",
     "output_type": "stream",
     "text": [
      "<__main__.animal object at 0x0000021F2FA7E7D0>\n"
     ]
    }
   ],
   "source": [
    "class animal:\n",
    "    def __init__(self,name,age):\n",
    "        self.name = name\n",
    "        self.age = age\n",
    "    \n",
    "cat = animal(\"Tommy\",4)\n",
    "print(cat)"
   ]
  },
  {
   "cell_type": "code",
   "execution_count": 8,
   "metadata": {},
   "outputs": [
    {
     "name": "stdout",
     "output_type": "stream",
     "text": [
      "Why are you directly printing object ,call a method\n",
      "<__main__.animal object at 0x0000021F2FA7E490>\n"
     ]
    }
   ],
   "source": [
    "# here on printing we are getting a wier msg and this msg is by\n",
    "# __str__ method we can re define it\n",
    "class animal:\n",
    "    def __init__(self,name,age):\n",
    "        self.name = name\n",
    "        self.age = age\n",
    "    def __str__(self):\n",
    "        return \"Why are you directly printing object ,call a method\"\n",
    "    \n",
    "cat = animal(\"Tommy\",4)\n",
    "print(cat)\n",
    "print(cat.__repr__())"
   ]
  },
  {
   "cell_type": "code",
   "execution_count": 10,
   "metadata": {},
   "outputs": [
    {
     "name": "stdout",
     "output_type": "stream",
     "text": [
      "Why are you directly printing object ,call a method\n",
      "This is from repr: pet(Tommy , 4)\n"
     ]
    }
   ],
   "source": [
    "# WE can similary redefine the __repr__ method as well\n",
    "class animal:\n",
    "    def __init__(self,name,age):\n",
    "        self.name = name\n",
    "        self.age = age\n",
    "    def __str__(self):\n",
    "        return \"Why are you directly printing object ,call a method\"\n",
    "    def __repr__(self):\n",
    "        return f\"This is from repr: pet({self.name} , {self.age})\"\n",
    "    \n",
    "cat = animal(\"Tommy\",4)\n",
    "print(cat)\n",
    "print(cat.__repr__())"
   ]
  },
  {
   "cell_type": "code",
   "execution_count": null,
   "metadata": {},
   "outputs": [],
   "source": []
  }
 ],
 "metadata": {
  "kernelspec": {
   "display_name": "base",
   "language": "python",
   "name": "python3"
  },
  "language_info": {
   "codemirror_mode": {
    "name": "ipython",
    "version": 3
   },
   "file_extension": ".py",
   "mimetype": "text/x-python",
   "name": "python",
   "nbconvert_exporter": "python",
   "pygments_lexer": "ipython3",
   "version": "3.11.7"
  }
 },
 "nbformat": 4,
 "nbformat_minor": 2
}
