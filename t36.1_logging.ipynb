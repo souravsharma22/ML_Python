{
 "cells": [
  {
   "cell_type": "code",
   "execution_count": 1,
   "metadata": {},
   "outputs": [
    {
     "name": "stderr",
     "output_type": "stream",
     "text": [
      "2024-08-09 18:49:26-Module 1-DEBUG-This is debug msg from module 1\n",
      "2024-08-09 18:49:26-Module 2-WARNING-This is warning from logger2\n"
     ]
    }
   ],
   "source": [
    "import logging\n",
    "\n",
    "# Create and configure loggers\n",
    "logger1 = logging.getLogger(\"Module 1\")\n",
    "logger1.setLevel(logging.DEBUG)\n",
    "\n",
    "logger2 = logging.getLogger(\"Module 2\")\n",
    "logger2.setLevel(logging.WARNING)\n",
    "\n",
    "# Create console handlers and set levels\n",
    "ch1 = logging.StreamHandler()\n",
    "ch1.setLevel(logging.DEBUG)\n",
    "\n",
    "ch2 = logging.StreamHandler()\n",
    "ch2.setLevel(logging.WARNING)\n",
    "\n",
    "# Create formatter and add it to handlers\n",
    "formatter = logging.Formatter('%(asctime)s-%(name)s-%(levelname)s-%(message)s', datefmt='%Y-%m-%d %H:%M:%S')\n",
    "ch1.setFormatter(formatter)\n",
    "ch2.setFormatter(formatter)\n",
    "\n",
    "# Add handlers to loggers\n",
    "logger1.addHandler(ch1)\n",
    "logger2.addHandler(ch2)\n",
    "\n",
    "# Log messages\n",
    "logger1.debug(\"This is debug msg from module 1\")\n",
    "logger2.warning(\"This is warning from logger2\")\n"
   ]
  }
 ],
 "metadata": {
  "kernelspec": {
   "display_name": "base",
   "language": "python",
   "name": "python3"
  },
  "language_info": {
   "codemirror_mode": {
    "name": "ipython",
    "version": 3
   },
   "file_extension": ".py",
   "mimetype": "text/x-python",
   "name": "python",
   "nbconvert_exporter": "python",
   "pygments_lexer": "ipython3",
   "version": "3.11.7"
  }
 },
 "nbformat": 4,
 "nbformat_minor": 2
}
