{
 "cells": [
  {
   "cell_type": "code",
   "execution_count": 1,
   "metadata": {},
   "outputs": [],
   "source": [
    "# Inheritance means carrying property of parent and adding our new mehods/atributes\n",
    "class car:\n",
    "    def __init__(self,name,company,prise,enginType):\n",
    "        self.name = name\n",
    "        self.prise = prise\n",
    "        self.company = company\n",
    "        self.enginType = enginType\n",
    "    def topspeed(self):\n",
    "        ts = len(self.name)*50\n",
    "        print(f\"This {self.name} has a top speed of {ts} Kmph\")\n",
    "    def drive(self):\n",
    "        print(f\"The person is driving {self.enginType} car\")\n"
   ]
  },
  {
   "cell_type": "code",
   "execution_count": 2,
   "metadata": {},
   "outputs": [],
   "source": [
    "# Now lets create a hild class who inherits the car class\n",
    "\n",
    "class Tesla(car):\n",
    "    def __init__(self, name, company, prise, enginType,autodriving):\n",
    "        super().__init__(name, company, prise, enginType)\n",
    "        self.autodriving = autodriving\n",
    "    def is_autodrive(self):\n",
    "        print(\"This Tesla is autodriving:\",self.autodriving)"
   ]
  },
  {
   "cell_type": "code",
   "execution_count": 5,
   "metadata": {},
   "outputs": [
    {
     "name": "stdout",
     "output_type": "stream",
     "text": [
      "The person is driving petrol car\n",
      "This f8 has a top speed of 100 Kmph\n",
      "\n",
      " this is details of child class\n",
      "\n",
      "This Tesla is autodriving: True\n",
      "This T2 has a top speed of 100 Kmph\n",
      "The person is driving diseal car\n"
     ]
    }
   ],
   "source": [
    "#now lets make a car class object \n",
    "car1 = car(\"f8\",\"Ferari\",2.5,\"petrol\")\n",
    "car1.drive()\n",
    "car1.topspeed()\n",
    "\n",
    "#Now lets make object of a child class \n",
    "Tesla1 = Tesla(\"T2\",\"Tesla\",1.5,\"diseal\",True)\n",
    "# now it has all parent class attributes and one own\n",
    "# it also has all the parent class methods \n",
    "print(\"\\n this is details of child class\\n\")\n",
    "Tesla1.is_autodrive()\n",
    "Tesla1.topspeed()\n",
    "Tesla1.drive()"
   ]
  }
 ],
 "metadata": {
  "kernelspec": {
   "display_name": "base",
   "language": "python",
   "name": "python3"
  },
  "language_info": {
   "codemirror_mode": {
    "name": "ipython",
    "version": 3
   },
   "file_extension": ".py",
   "mimetype": "text/x-python",
   "name": "python",
   "nbconvert_exporter": "python",
   "pygments_lexer": "ipython3",
   "version": "3.11.7"
  }
 },
 "nbformat": 4,
 "nbformat_minor": 2
}
