{
 "cells": [
  {
   "cell_type": "code",
   "execution_count": 1,
   "metadata": {},
   "outputs": [
    {
     "name": "stdout",
     "output_type": "stream",
     "text": [
      "<class 'function'>\n",
      "11\n"
     ]
    }
   ],
   "source": [
    "# Lmda function is a anonymous single line function for small operations\n",
    "add = lambda a,b:a+b\n",
    "print(type(add))\n",
    "print(add(5,6))"
   ]
  },
  {
   "cell_type": "code",
   "execution_count": 2,
   "metadata": {},
   "outputs": [
    {
     "name": "stdout",
     "output_type": "stream",
     "text": [
      "<function <lambda> at 0x000001F3A12C18A0>\n",
      "<function <lambda> at 0x000001F3A12C18A0>\n",
      "<function <lambda> at 0x000001F3A12C18A0>\n",
      "<function <lambda> at 0x000001F3A12C18A0>\n",
      "<function <lambda> at 0x000001F3A12C18A0>\n",
      "<function <lambda> at 0x000001F3A12C18A0>\n",
      "<function <lambda> at 0x000001F3A12C18A0>\n"
     ]
    }
   ],
   "source": [
    "list1 = [1,2,3,4,5,6,7]\n",
    "for n in list1:\n",
    "    print(lambda n:n%2==0)"
   ]
  },
  {
   "cell_type": "code",
   "execution_count": 3,
   "metadata": {},
   "outputs": [
    {
     "name": "stdout",
     "output_type": "stream",
     "text": [
      "False\n",
      "True\n",
      "False\n",
      "True\n",
      "False\n",
      "True\n",
      "False\n"
     ]
    }
   ],
   "source": [
    "even = lambda a:a%2==0\n",
    "for n in list1:\n",
    "    print(even(n))"
   ]
  },
  {
   "cell_type": "code",
   "execution_count": 4,
   "metadata": {},
   "outputs": [],
   "source": [
    "# using the map function we can use lambda efficiently\n",
    "list2 = list(map(lambda x:x**2 , list1))"
   ]
  },
  {
   "cell_type": "code",
   "execution_count": 5,
   "metadata": {},
   "outputs": [
    {
     "name": "stdout",
     "output_type": "stream",
     "text": [
      "[1, 4, 9, 16, 25, 36, 49]\n"
     ]
    }
   ],
   "source": [
    "print(list2)"
   ]
  },
  {
   "cell_type": "code",
   "execution_count": 6,
   "metadata": {},
   "outputs": [
    {
     "name": "stdout",
     "output_type": "stream",
     "text": [
      "[1, 8, 27, 64, 125, 216, 343, 512, 729]\n"
     ]
    }
   ],
   "source": [
    "def cube(x):\n",
    "    return x**3\n",
    "list3 = [1,2,3,4,5,6,7,8,9]\n",
    "#using the map function we can directly apply a function to a collection without the use of loop\n",
    "list5 = list(map(cube,list3))\n",
    "print(list5)\n"
   ]
  },
  {
   "cell_type": "code",
   "execution_count": 7,
   "metadata": {},
   "outputs": [
    {
     "name": "stdout",
     "output_type": "stream",
     "text": [
      "[1, 8, 27, 64, 125, 216, 343, 512, 729]\n"
     ]
    }
   ],
   "source": [
    "#doing same using lamda\n",
    "list6 = list(map(lambda x:x**3, list3))\n",
    "print(list6)"
   ]
  },
  {
   "cell_type": "code",
   "execution_count": 12,
   "metadata": {},
   "outputs": [
    {
     "name": "stdout",
     "output_type": "stream",
     "text": [
      "[5, 7, 9]\n",
      "[1, 4, 9]\n"
     ]
    }
   ],
   "source": [
    "# we also give more then one iterable\n",
    "num1=[1,2,3]\n",
    "num2 =[4,5,6]\n",
    "sum = list(map(lambda x,y:x+y,num1,num2))\n",
    "square = list(map(lambda x,y:x**2,num1,num2))\n",
    "print(sum)\n",
    "print(square)"
   ]
  },
  {
   "cell_type": "code",
   "execution_count": 13,
   "metadata": {},
   "outputs": [
    {
     "name": "stdout",
     "output_type": "stream",
     "text": [
      "[1, 2, 3, 4, 5, 6, 7, 8, 9]\n"
     ]
    }
   ],
   "source": [
    "#convering string to int\n",
    "l = [\"1\",\"2\",\"3\",\"4\",\"5\",\"6\",\"7\",\"8\",\"9\"]\n",
    "l1 = list(map(lambda x:int(x),l))\n",
    "print(l1)\n"
   ]
  },
  {
   "cell_type": "code",
   "execution_count": 15,
   "metadata": {},
   "outputs": [
    {
     "name": "stdout",
     "output_type": "stream",
     "text": [
      "['APPLE', 'BANANA', 'MANGO']\n"
     ]
    }
   ],
   "source": [
    "#using the inbuilt function with map\n",
    "fruit = [\"apple\",\"banana\",\"mango\"]\n",
    "fal = list(map(str.upper,fruit))\n",
    "print(fal)"
   ]
  },
  {
   "cell_type": "code",
   "execution_count": 17,
   "metadata": {},
   "outputs": [
    {
     "name": "stdout",
     "output_type": "stream",
     "text": [
      "['Sourav', 'Gourav', 'Survi']\n"
     ]
    }
   ],
   "source": [
    "def get_name(person):\n",
    "    return person[\"name\"]\n",
    "\n",
    "people = [{'name': 'Sourav', 'Age': 23, 'Gender': 'male'},\n",
    "{'name': 'Gourav', 'Age': 25, 'Gender': 'male'},\n",
    "{'name': 'Survi', 'Age': 20, 'Gender': 'Female'}]\n",
    "\n",
    "names = list(map(get_name,people))\n",
    "print(names)\n"
   ]
  }
 ],
 "metadata": {
  "kernelspec": {
   "display_name": "base",
   "language": "python",
   "name": "python3"
  },
  "language_info": {
   "codemirror_mode": {
    "name": "ipython",
    "version": 3
   },
   "file_extension": ".py",
   "mimetype": "text/x-python",
   "name": "python",
   "nbconvert_exporter": "python",
   "pygments_lexer": "ipython3",
   "version": "3.11.7"
  }
 },
 "nbformat": 4,
 "nbformat_minor": 2
}
