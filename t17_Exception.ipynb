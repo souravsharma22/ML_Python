{
 "cells": [
  {
   "cell_type": "code",
   "execution_count": 1,
   "metadata": {},
   "outputs": [
    {
     "name": "stdout",
     "output_type": "stream",
     "text": [
      "hey! A variable is not defined\n"
     ]
    }
   ],
   "source": [
    "#Exception handelling in findinf\n",
    "# in python we use try & except to handel exception\n",
    "try :\n",
    "    a=b\n",
    "except:\n",
    "    print(\"hey! A variable is not defined\")"
   ]
  },
  {
   "cell_type": "code",
   "execution_count": 2,
   "metadata": {},
   "outputs": [
    {
     "name": "stdout",
     "output_type": "stream",
     "text": [
      "name 'd' is not defined\n"
     ]
    }
   ],
   "source": [
    "# we can also define the error name in except block\n",
    "try:\n",
    "    c=d\n",
    "except NameError as nm:\n",
    "    print(nm)"
   ]
  },
  {
   "cell_type": "code",
   "execution_count": 4,
   "metadata": {},
   "outputs": [
    {
     "name": "stdout",
     "output_type": "stream",
     "text": [
      "Hey , denominator is zero\n"
     ]
    }
   ],
   "source": [
    "# division by zero also raises error so lets handel that error\n",
    "try:\n",
    "    c =10/0\n",
    "except:\n",
    "    print(\"Hey , denominator is zero\")\n"
   ]
  },
  {
   "cell_type": "code",
   "execution_count": 5,
   "metadata": {},
   "outputs": [
    {
     "name": "stdout",
     "output_type": "stream",
     "text": [
      "name 'd' is not defined\n",
      "division by zero\n"
     ]
    }
   ],
   "source": [
    "# all the errors are subclass of Exception\n",
    "# so if we use exception in except then all errors can be handeled\n",
    "try:\n",
    "    c=d\n",
    "except Exception as nm:\n",
    "    print(nm)\n",
    "\n",
    "try:\n",
    "    c =10/0\n",
    "except Exception as ex:\n",
    "    print(ex)\n"
   ]
  },
  {
   "cell_type": "code",
   "execution_count": 9,
   "metadata": {},
   "outputs": [
    {
     "name": "stdout",
     "output_type": "stream",
     "text": [
      "invalid literal for int() with base 10: 'hg'\n",
      "Enter a valied number for division\n"
     ]
    }
   ],
   "source": [
    "# handelling multiple errors\n",
    "try:\n",
    "    a = int(input(\"Enter the number\"))\n",
    "    c =10/a\n",
    "except ValueError as ex:\n",
    "    print(ex)\n",
    "    print(\"Enter a valied number for division\")\n",
    "except ZeroDivisionError as nm:\n",
    "    print(nm)\n",
    "# giving input \"abc\""
   ]
  },
  {
   "cell_type": "code",
   "execution_count": 10,
   "metadata": {},
   "outputs": [
    {
     "name": "stdout",
     "output_type": "stream",
     "text": [
      "division by zero\n"
     ]
    }
   ],
   "source": [
    "try:\n",
    "    a = int(input(\"Enter the number\"))\n",
    "    c =10/a\n",
    "except ValueError as ex:\n",
    "    print(ex)\n",
    "    print(\"Enter a valied number for division\")\n",
    "except ZeroDivisionError as nm:\n",
    "    print(nm)\n",
    "#giving input \"0\""
   ]
  },
  {
   "cell_type": "code",
   "execution_count": 11,
   "metadata": {},
   "outputs": [
    {
     "name": "stdout",
     "output_type": "stream",
     "text": [
      "the division value is  5.0\n"
     ]
    }
   ],
   "source": [
    "# we can use else block at the last of the try-except block\n",
    "#and else block will definetly and only will be ececuted when try block executes completly\n",
    "try:\n",
    "    a = int(input(\"Enter the number\"))\n",
    "    c =10/a\n",
    "except ValueError as ex:\n",
    "    print(ex)\n",
    "    print(\"Enter a valied number for division\")\n",
    "except ZeroDivisionError as nm:\n",
    "    print(nm)\n",
    "except Exception as ex:\n",
    "    print(ex)\n",
    "else:\n",
    "    print(\"the division value is \",c)\n",
    "#will give input 2"
   ]
  },
  {
   "cell_type": "code",
   "execution_count": 12,
   "metadata": {},
   "outputs": [
    {
     "name": "stdout",
     "output_type": "stream",
     "text": [
      "invalid literal for int() with base 10: 'kjp0'\n",
      "Enter a valied number for division\n",
      "Finally , block is executed\n"
     ]
    }
   ],
   "source": [
    "# finally , it is used at last of try-except \n",
    "#and finally block always Executes\n",
    "try:\n",
    "    a = int(input(\"Enter the number\"))\n",
    "    c =10/a\n",
    "except ValueError as ex:\n",
    "    print(ex)\n",
    "    print(\"Enter a valied number for division\")\n",
    "except ZeroDivisionError as nm:\n",
    "    print(nm)\n",
    "except Exception as ex:\n",
    "    print(ex)\n",
    "else:\n",
    "    print(\"the division value is \",c)\n",
    "finally:\n",
    "    print(\"Finally , block is executed\")\n",
    "#INput will be \"k0jf\"\n"
   ]
  },
  {
   "cell_type": "code",
   "execution_count": 13,
   "metadata": {},
   "outputs": [
    {
     "name": "stdout",
     "output_type": "stream",
     "text": [
      "the division value is  2.0\n",
      "Finally , block is executed\n"
     ]
    }
   ],
   "source": [
    "try:\n",
    "    a = int(input(\"Enter the number\"))\n",
    "    c =10/a\n",
    "except ValueError as ex:\n",
    "    print(ex)\n",
    "    print(\"Enter a valied number for division\")\n",
    "except ZeroDivisionError as nm:\n",
    "    print(nm)\n",
    "except Exception as ex:\n",
    "    print(ex)\n",
    "else:\n",
    "    print(\"the division value is \",c)\n",
    "finally:\n",
    "    print(\"Finally , block is executed\")\n",
    "#INput will be \"5\""
   ]
  },
  {
   "cell_type": "code",
   "execution_count": 24,
   "metadata": {},
   "outputs": [
    {
     "name": "stdout",
     "output_type": "stream",
     "text": [
      "My Name is Sourav Sharma\n",
      "name 'b' is not defined\n",
      "File Closed\n"
     ]
    }
   ],
   "source": [
    "# Exception Handling in file handling\n",
    "try:\n",
    "    file = open(\"t17_text.txt\",'r')\n",
    "    read = file.read()\n",
    "    print(read)\n",
    "    a=b\n",
    "except FileNotFoundError as fn:\n",
    "    print(fn)\n",
    "    print(\"Give proper File name\")\n",
    "except Exception as ex:\n",
    "    print(ex)\n",
    "finally:\n",
    "    if (\"file\" in locals() and not file.closed):\n",
    "        file.close()\n",
    "        print(\"File Closed\")\n"
   ]
  }
 ],
 "metadata": {
  "kernelspec": {
   "display_name": "base",
   "language": "python",
   "name": "python3"
  },
  "language_info": {
   "codemirror_mode": {
    "name": "ipython",
    "version": 3
   },
   "file_extension": ".py",
   "mimetype": "text/x-python",
   "name": "python",
   "nbconvert_exporter": "python",
   "pygments_lexer": "ipython3",
   "version": "3.11.7"
  }
 },
 "nbformat": 4,
 "nbformat_minor": 2
}
