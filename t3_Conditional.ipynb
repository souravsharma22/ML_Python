{
 "cells": [
  {
   "cell_type": "code",
   "execution_count": 1,
   "metadata": {},
   "outputs": [
    {
     "name": "stdout",
     "output_type": "stream",
     "text": [
      "You are eligible to vote\n"
     ]
    }
   ],
   "source": [
    "# if statement executes statement if the condition is true\n",
    "age = 20\n",
    "if (age>=18):\n",
    "    print(\"You are eligible to vote\")"
   ]
  },
  {
   "cell_type": "code",
   "execution_count": 2,
   "metadata": {},
   "outputs": [
    {
     "name": "stdout",
     "output_type": "stream",
     "text": [
      "You are minor\n"
     ]
    }
   ],
   "source": [
    "# else , this executes a block of code when if condition is false\n",
    "age = 15\n",
    "if(age>=18):\n",
    "    print(\"You can vote\")\n",
    "else:\n",
    "    print(\"You are minor\")"
   ]
  },
  {
   "cell_type": "code",
   "execution_count": 9,
   "metadata": {},
   "outputs": [
    {
     "name": "stdout",
     "output_type": "stream",
     "text": [
      "You are an adult now\n"
     ]
    }
   ],
   "source": [
    "# elif , this allows to check for multiple condition\n",
    "age = 21\n",
    "if( age < 7):\n",
    "    print(\"You are a child\")\n",
    "elif(age>=7 and age<19):\n",
    "    print(\"You are a teenager\")\n",
    "else:\n",
    "    print(\"You are an adult now\")"
   ]
  },
  {
   "cell_type": "code",
   "execution_count": 11,
   "metadata": {},
   "outputs": [
    {
     "name": "stdout",
     "output_type": "stream",
     "text": [
      "Number is Negative\n"
     ]
    }
   ],
   "source": [
    "#nested if-else\n",
    "num = int(input(\"Enter the number\"))\n",
    "\n",
    "if(num>=0):\n",
    "    print(\"Number if positive\")\n",
    "    if(num%2==0):\n",
    "        print(\"It is a even number\")\n",
    "    else:\n",
    "        print(\"Number is odd\")\n",
    "else:\n",
    "    print(\"Number is Negative\")"
   ]
  },
  {
   "cell_type": "code",
   "execution_count": 15,
   "metadata": {},
   "outputs": [
    {
     "name": "stdout",
     "output_type": "stream",
     "text": [
      "2024 Leap Year\n"
     ]
    }
   ],
   "source": [
    "#determine if  a year is leap or not\n",
    "y = int(input(\"Enter the year\"))\n",
    "if(y%4==0):\n",
    "    if(y%100==0 and y%400!=00):\n",
    "        print(y,\"Not a Leap Year\")\n",
    "    else:\n",
    "        print(y,\"Leap Year\")\n",
    "else:\n",
    "    print(y,\"Not a Leap Year\")"
   ]
  },
  {
   "cell_type": "code",
   "execution_count": 17,
   "metadata": {},
   "outputs": [
    {
     "name": "stdout",
     "output_type": "stream",
     "text": [
      "Error!,division not possible by 0\n"
     ]
    }
   ],
   "source": [
    "#simple calculator using if-else\n",
    "a = int(input(\"Enter number 1\"))\n",
    "b = int(input(\"Enter number 2\"))\n",
    "op = input(\"Enter the operatiion +,-,/,//,%\")\n",
    "\n",
    "if op==\"+\":\n",
    "    print(\"sum is \",a+b)\n",
    "elif op ==\"-\":\n",
    "    print(\"subtraction is\",a-b)\n",
    "elif op == '/':\n",
    "    if(b!=0):\n",
    "        print(\"The division is \",a/b)\n",
    "    else:\n",
    "        print(\"Error!,division not possible by 0\")\n",
    "elif op == '//':\n",
    "    if(b!=0):\n",
    "        print(\"The division is \",a//b)\n",
    "    else:\n",
    "        print(\"Error!,division not possible by 0\")\n",
    "elif op == '%':\n",
    "    print(\"The remainder is \",a%b)\n",
    "else:\n",
    "    print(\"Given operation is invalied\")\n",
    "\n"
   ]
  },
  {
   "cell_type": "code",
   "execution_count": null,
   "metadata": {},
   "outputs": [],
   "source": []
  }
 ],
 "metadata": {
  "kernelspec": {
   "display_name": "base",
   "language": "python",
   "name": "python3"
  },
  "language_info": {
   "codemirror_mode": {
    "name": "ipython",
    "version": 3
   },
   "file_extension": ".py",
   "mimetype": "text/x-python",
   "name": "python",
   "nbconvert_exporter": "python",
   "pygments_lexer": "ipython3",
   "version": "3.11.7"
  }
 },
 "nbformat": 4,
 "nbformat_minor": 2
}
