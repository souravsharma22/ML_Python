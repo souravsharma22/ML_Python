{
 "cells": [
  {
   "cell_type": "code",
   "execution_count": 3,
   "metadata": {},
   "outputs": [
    {
     "name": "stdout",
     "output_type": "stream",
     "text": [
      "50\n",
      "Apple\n"
     ]
    }
   ],
   "source": [
    "#some important libraries\n",
    "import random\n",
    "print(random.randint(1,100))\n",
    "print(random.choice([\"Apple\",\"boy\",\"vat\",\"cat\"]))"
   ]
  },
  {
   "cell_type": "code",
   "execution_count": 4,
   "metadata": {},
   "outputs": [
    {
     "name": "stdout",
     "output_type": "stream",
     "text": [
      "c:\\ML\\ML_Python\n"
     ]
    }
   ],
   "source": [
    "import os\n",
    "print(os.getcwd())"
   ]
  },
  {
   "cell_type": "code",
   "execution_count": 5,
   "metadata": {},
   "outputs": [
    {
     "name": "stdout",
     "output_type": "stream",
     "text": [
      "shutil\n"
     ]
    }
   ],
   "source": [
    "import shutil\n",
    "print(shutil.__name__)"
   ]
  },
  {
   "cell_type": "code",
   "execution_count": 6,
   "metadata": {},
   "outputs": [
    {
     "name": "stdout",
     "output_type": "stream",
     "text": [
      "{\"name\": \"SOurav\", \"age\": 21, \"Gender\": \"Make\"}\n",
      "<class 'str'>\n"
     ]
    }
   ],
   "source": [
    "import json\n",
    "dis = {\"name\":\"SOurav\",\"age\":21,\"Gender\":\"Make\"}\n",
    "json_str = json.dumps(dis)\n",
    "print(json_str)\n",
    "print(type(json_str))"
   ]
  },
  {
   "cell_type": "code",
   "execution_count": 8,
   "metadata": {},
   "outputs": [
    {
     "name": "stdout",
     "output_type": "stream",
     "text": [
      "{'name': 'SOurav', 'age': 21, 'Gender': 'Make'}\n",
      "<class 'dict'>\n"
     ]
    }
   ],
   "source": [
    "#retreving the data\n",
    "parsed_data = json.loads(json_str)\n",
    "print(parsed_data)\n",
    "print(type(parsed_data))"
   ]
  },
  {
   "cell_type": "code",
   "execution_count": 9,
   "metadata": {},
   "outputs": [],
   "source": [
    "import csv\n",
    "with open(\"t15_z.txt\",mode=\"w\") as file:\n",
    "    writer = csv.writer(file)\n",
    "    writer.writerow([\"Sourav\",\"B.Tech\",\"CSE\",\"8.95\"])\n",
    "    writer.writerow([\"Soumajit\",\"B.Tech\",\"EE\",\"7.95\"])"
   ]
  },
  {
   "cell_type": "code",
   "execution_count": 10,
   "metadata": {},
   "outputs": [
    {
     "name": "stdout",
     "output_type": "stream",
     "text": [
      "['Sourav', 'B.Tech', 'CSE', '8.95']\n",
      "[]\n",
      "['Soumajit', 'B.Tech', 'EE', '7.95']\n",
      "[]\n"
     ]
    }
   ],
   "source": [
    "with open(\"t15_z.txt\",'r') as file:\n",
    "    reader = csv.reader(file)\n",
    "    for row in reader:\n",
    "        print(row)"
   ]
  },
  {
   "cell_type": "code",
   "execution_count": 16,
   "metadata": {},
   "outputs": [
    {
     "name": "stdout",
     "output_type": "stream",
     "text": [
      "2024-06-29 17:32:09.148109\n",
      "2024-07-01 17:32:09.148109\n"
     ]
    }
   ],
   "source": [
    "#there is a library datetime\n",
    "import datetime as dt\n",
    "now= dt.datetime.now()\n",
    "print(now - dt.timedelta(days=2))\n",
    "print(now)"
   ]
  },
  {
   "cell_type": "code",
   "execution_count": 17,
   "metadata": {},
   "outputs": [
    {
     "name": "stdout",
     "output_type": "stream",
     "text": [
      "1719835426.042857\n",
      "1719835428.0457873\n"
     ]
    }
   ],
   "source": [
    "#Another important module is time\n",
    "import time\n",
    "print(time.time())\n",
    "time.sleep(2)\n",
    "print(time.time())"
   ]
  },
  {
   "cell_type": "code",
   "execution_count": 19,
   "metadata": {},
   "outputs": [
    {
     "name": "stdout",
     "output_type": "stream",
     "text": [
      "None\n"
     ]
    }
   ],
   "source": [
    "#REgular expression libraray \n",
    "#this is udes for pattern recognization\n",
    "import re\n",
    "pattern = r'\\d+' #\\d is for digits\n",
    "string = \"This a 1234 ho gaya\"\n",
    "print(re.match(pattern=pattern,string=string))"
   ]
  },
  {
   "cell_type": "code",
   "execution_count": 20,
   "metadata": {},
   "outputs": [
    {
     "name": "stdout",
     "output_type": "stream",
     "text": [
      "<re.Match object; span=(7, 11), match='1234'>\n"
     ]
    }
   ],
   "source": [
    "mat = re.search(pattern,string)\n",
    "print(mat)"
   ]
  },
  {
   "cell_type": "code",
   "execution_count": 21,
   "metadata": {},
   "outputs": [
    {
     "name": "stdout",
     "output_type": "stream",
     "text": [
      "1234\n"
     ]
    }
   ],
   "source": [
    "print(mat.group())"
   ]
  },
  {
   "cell_type": "code",
   "execution_count": 22,
   "metadata": {},
   "outputs": [
    {
     "name": "stdout",
     "output_type": "stream",
     "text": [
      "<re.Match object; span=(0, 1), match='9'>\n",
      "9\n"
     ]
    }
   ],
   "source": [
    "#Above are the diffrent ways to get data in diffrent form\n",
    "text = \"9 to 2 bas 11 doone\"\n",
    "m= re.search(\"\\d+\",text)\n",
    "print(m)\n",
    "print(m.group())"
   ]
  },
  {
   "cell_type": "code",
   "execution_count": 24,
   "metadata": {},
   "outputs": [
    {
     "name": "stdout",
     "output_type": "stream",
     "text": [
      "None\n"
     ]
    }
   ],
   "source": [
    "print(re.match(\"11\",text))"
   ]
  }
 ],
 "metadata": {
  "kernelspec": {
   "display_name": "base",
   "language": "python",
   "name": "python3"
  },
  "language_info": {
   "codemirror_mode": {
    "name": "ipython",
    "version": 3
   },
   "file_extension": ".py",
   "mimetype": "text/x-python",
   "name": "python",
   "nbconvert_exporter": "python",
   "pygments_lexer": "ipython3",
   "version": "3.11.7"
  }
 },
 "nbformat": 4,
 "nbformat_minor": 2
}
