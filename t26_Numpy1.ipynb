{
 "cells": [
  {
   "cell_type": "code",
   "execution_count": 1,
   "metadata": {},
   "outputs": [
    {
     "name": "stdout",
     "output_type": "stream",
     "text": [
      "[1 2 3 4 5 5]\n",
      "<class 'numpy.ndarray'>\n",
      "(6,)\n"
     ]
    }
   ],
   "source": [
    "import numpy as np\n",
    "# ceating an array\n",
    "arr1 = np.array([1,2,3,4,5,5])\n",
    "print(arr1)\n",
    "print(type(arr1))\n",
    "print(arr1.shape)"
   ]
  },
  {
   "cell_type": "code",
   "execution_count": 9,
   "metadata": {},
   "outputs": [
    {
     "name": "stdout",
     "output_type": "stream",
     "text": [
      "[[1 2 3 4 5]]\n",
      "[1 2 3 4 5]\n",
      "(5,)\n",
      "<class 'numpy.ndarray'>\n"
     ]
    }
   ],
   "source": [
    "# creating 2d array\n",
    "arr2 = np.array([1,2,3,4,5])\n",
    "print(arr2.reshape(1,5))\n",
    "print(arr2)\n",
    "print(arr2.shape)\n",
    "print(type(arr2))"
   ]
  },
  {
   "cell_type": "code",
   "execution_count": 11,
   "metadata": {},
   "outputs": [
    {
     "name": "stdout",
     "output_type": "stream",
     "text": [
      "[[1 2 3 4 5]\n",
      " [2 3 4 5 6]]\n",
      "(2, 5)\n"
     ]
    }
   ],
   "source": [
    "arr3 = np.array([[1,2,3,4,5],[2,3,4,5,6]])\n",
    "print(arr3)\n",
    "print(arr3.shape)"
   ]
  },
  {
   "cell_type": "code",
   "execution_count": 14,
   "metadata": {},
   "outputs": [
    {
     "name": "stdout",
     "output_type": "stream",
     "text": [
      "[1 2 3 4 5 5]\n",
      "(6,)\n"
     ]
    }
   ],
   "source": [
    "arr1.reshape(6,1)\n",
    "print(arr1)\n",
    "print(arr1.shape)"
   ]
  },
  {
   "cell_type": "code",
   "execution_count": 15,
   "metadata": {},
   "outputs": [
    {
     "name": "stdout",
     "output_type": "stream",
     "text": [
      "[0 2 4 6 8]\n"
     ]
    }
   ],
   "source": [
    "# we can create arry with elemnets using np.arange\n",
    "arr4 = np.arange(0,10,2)\n",
    "print(arr4)"
   ]
  },
  {
   "cell_type": "code",
   "execution_count": 17,
   "metadata": {},
   "outputs": [
    {
     "name": "stdout",
     "output_type": "stream",
     "text": [
      "[[ 0]\n",
      " [ 2]\n",
      " [ 4]\n",
      " [ 6]\n",
      " [ 8]\n",
      " [10]\n",
      " [12]\n",
      " [14]]\n"
     ]
    }
   ],
   "source": [
    "arr5 = np.arange(0,15,2).reshape(8,1)\n",
    "# it will be a 2d array\n",
    "print(arr5)"
   ]
  },
  {
   "cell_type": "code",
   "execution_count": 18,
   "metadata": {},
   "outputs": [
    {
     "name": "stdout",
     "output_type": "stream",
     "text": [
      "[1 2 3 3 6]\n",
      "[ 5 10 15 19 24]\n",
      "[  6  24  54  88 135]\n",
      "[1.5        1.5        1.5        1.375      1.66666667]\n",
      "[1.41421356 2.         2.44948974 2.82842712 3.        ]\n",
      "[ 0.90929743 -0.7568025  -0.2794155   0.98935825  0.41211849]\n"
     ]
    }
   ],
   "source": [
    "# using element wise operations\n",
    "a1 = np.array([2,4,6,8,9])\n",
    "a2 = np.array([3,6,9,11,15])\n",
    "\n",
    "print(a2-a1)\n",
    "print(a2+a1)\n",
    "print(a2*a1)\n",
    "print(a2/a1)\n",
    "print(np.sqrt(a1))\n",
    "print(np.sin(a1))"
   ]
  },
  {
   "cell_type": "code",
   "execution_count": 19,
   "metadata": {},
   "outputs": [
    {
     "name": "stdout",
     "output_type": "stream",
     "text": [
      "[[ 1  2  3  4]\n",
      " [ 5  6  7  8]\n",
      " [11  2 34 54]]\n"
     ]
    }
   ],
   "source": [
    "# array indexing and slicing\n",
    "a22 = np.array([[1,2,3,4],[5,6,7,8],[11,2,34,54]])\n",
    "print(a22)"
   ]
  },
  {
   "cell_type": "code",
   "execution_count": 20,
   "metadata": {},
   "outputs": [
    {
     "name": "stdout",
     "output_type": "stream",
     "text": [
      "8\n"
     ]
    }
   ],
   "source": [
    "print(a22[1][3])"
   ]
  },
  {
   "cell_type": "code",
   "execution_count": 24,
   "metadata": {},
   "outputs": [
    {
     "name": "stdout",
     "output_type": "stream",
     "text": [
      "[[ 5  6  7  8]\n",
      " [11  2 34 54]]\n",
      "[[ 7  8]\n",
      " [34 54]]\n"
     ]
    }
   ],
   "source": [
    "print(a22[1:])\n",
    "print(a22[1:,2:])"
   ]
  },
  {
   "cell_type": "code",
   "execution_count": 25,
   "metadata": {},
   "outputs": [
    {
     "name": "stdout",
     "output_type": "stream",
     "text": [
      "[[999   2   3   4]\n",
      " [  5   6   7   8]\n",
      " [ 11   2  34  54]]\n"
     ]
    }
   ],
   "source": [
    "# modifying elements\n",
    "a22[0][0]=999\n",
    "print(a22)"
   ]
  },
  {
   "cell_type": "code",
   "execution_count": 26,
   "metadata": {},
   "outputs": [
    {
     "name": "stdout",
     "output_type": "stream",
     "text": [
      "[[999   2   3   4]\n",
      " [ 99  99  99  99]\n",
      " [ 99  99  99  99]]\n"
     ]
    }
   ],
   "source": [
    "# we also change with many values\n",
    "a22[1:]=99\n",
    "print(a22)"
   ]
  },
  {
   "cell_type": "code",
   "execution_count": 27,
   "metadata": {},
   "outputs": [
    {
     "name": "stdout",
     "output_type": "stream",
     "text": [
      "Mean: 7.363636363636363\n",
      "Varieance: 38.231404958677686\n",
      "Standard deviation: 6.183154935684346\n"
     ]
    }
   ],
   "source": [
    "# statical calculation\n",
    "asd = np.array([1,2,3,5,6,7,8,10,12,3,24])\n",
    "print(\"Mean:\",np.mean(asd))\n",
    "print(\"Varieance:\",np.var(asd))\n",
    "print(\"Standard deviation:\",np.std(asd))"
   ]
  },
  {
   "cell_type": "code",
   "execution_count": 29,
   "metadata": {},
   "outputs": [
    {
     "name": "stdout",
     "output_type": "stream",
     "text": [
      "[[ True False False False]\n",
      " [ True  True  True  True]\n",
      " [ True  True  True  True]]\n"
     ]
    }
   ],
   "source": [
    "#logical operations \n",
    "print(a22>5)"
   ]
  },
  {
   "cell_type": "code",
   "execution_count": 30,
   "metadata": {},
   "outputs": [
    {
     "name": "stdout",
     "output_type": "stream",
     "text": [
      "[999  99  99  99  99  99  99  99  99]\n"
     ]
    }
   ],
   "source": [
    "print(a22[a22>5])"
   ]
  },
  {
   "cell_type": "code",
   "execution_count": 31,
   "metadata": {},
   "outputs": [
    {
     "name": "stdout",
     "output_type": "stream",
     "text": [
      "[2 3 4]\n"
     ]
    }
   ],
   "source": [
    "print(a22[(a22>0) & (a22<10)])"
   ]
  }
 ],
 "metadata": {
  "kernelspec": {
   "display_name": "base",
   "language": "python",
   "name": "python3"
  },
  "language_info": {
   "codemirror_mode": {
    "name": "ipython",
    "version": 3
   },
   "file_extension": ".py",
   "mimetype": "text/x-python",
   "name": "python",
   "nbconvert_exporter": "python",
   "pygments_lexer": "ipython3",
   "version": "3.11.7"
  }
 },
 "nbformat": 4,
 "nbformat_minor": 2
}
