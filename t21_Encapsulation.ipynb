{
 "cells": [
  {
   "cell_type": "code",
   "execution_count": 3,
   "metadata": {},
   "outputs": [
    {
     "name": "stdout",
     "output_type": "stream",
     "text": [
      "Sourav\n"
     ]
    }
   ],
   "source": [
    "#Encapsulation means wrapping the data and methods\n",
    "# public - this meeans the data and methods can be accessed by anyone\n",
    "# public is default not writing anything means public\n",
    "class Person:\n",
    "    def __init__(self,name,age):\n",
    "        self.name  = name\n",
    "        self.age = age\n",
    "        \n",
    "def get_name(person):\n",
    "    return person.name\n",
    "p1 = Person(\"Sourav\",21)\n",
    "print(get_name(p1))"
   ]
  },
  {
   "cell_type": "code",
   "execution_count": 11,
   "metadata": {},
   "outputs": [
    {
     "name": "stdout",
     "output_type": "stream",
     "text": [
      "['_Person__age', '_Person__name', '__class__', '__delattr__', '__dict__', '__dir__', '__doc__', '__eq__', '__format__', '__ge__', '__getattribute__', '__getstate__', '__gt__', '__hash__', '__init__', '__init_subclass__', '__le__', '__lt__', '__module__', '__ne__', '__new__', '__reduce__', '__reduce_ex__', '__repr__', '__setattr__', '__sizeof__', '__str__', '__subclasshook__', '__weakref__', 'gender']\n"
     ]
    }
   ],
   "source": [
    "#Private varialbe defined by\"__\"\n",
    "class Person:\n",
    "    def __init__(self,name,age,gender):\n",
    "        self.__name  = name\n",
    "        self.__age = age\n",
    "        self.gender = gender\n",
    "        \n",
    "def get_name(person):\n",
    "    return person.name\n",
    "p1 = Person(\"Sourav\",21,\"Male\")\n",
    "print(dir(p1))\n",
    "# in this dir gender will be present but not name and age\n",
    "\n",
    "#print(get_name(p1))\n",
    "#this will give error as get_name function cannot access name"
   ]
  },
  {
   "cell_type": "code",
   "execution_count": 13,
   "metadata": {},
   "outputs": [
    {
     "name": "stdout",
     "output_type": "stream",
     "text": [
      "Male\n",
      "Sourav\n"
     ]
    }
   ],
   "source": [
    "# as we see in the directry gender is present but not name \n",
    "# this is encapsulation of the data\n",
    "print(p1.gender)\n",
    "#tgeae is a way to get those encapsuled data\n",
    "print(p1._Person__name)"
   ]
  },
  {
   "cell_type": "code",
   "execution_count": 22,
   "metadata": {},
   "outputs": [
    {
     "name": "stdout",
     "output_type": "stream",
     "text": [
      "['_Employee__id', '__class__', '__delattr__', '__dict__', '__dir__', '__doc__', '__eq__', '__format__', '__ge__', '__getattribute__', '__getstate__', '__gt__', '__hash__', '__init__', '__init_subclass__', '__le__', '__lt__', '__module__', '__ne__', '__new__', '__reduce__', '__reduce_ex__', '__repr__', '__setattr__', '__sizeof__', '__str__', '__subclasshook__', '__weakref__', '_age', '_name', 'gender']\n",
      "Sourav\n",
      "Aftab\n",
      "Sourav\n"
     ]
    }
   ],
   "source": [
    "# Private is also a type of accessifier and it alloows to be used data \n",
    "# and method in the subclass \n",
    "# This private variables are defined starting woth one underscore \"_\"\n",
    "class Employee:\n",
    "    def __init__(self,name,age,gender,id):\n",
    "        self._name  = name\n",
    "        self._age = age\n",
    "        self.__id =id\n",
    "        self.gender = gender\n",
    "        \n",
    "class Wipro(Employee):\n",
    "    def __init__(self, name, age, gender, id):\n",
    "        super().__init__(name, age, gender, id)\n",
    "    def print_data(self):\n",
    "        print(self._name)\n",
    "\n",
    "E1 = Employee(\"Sourav\",21,\"Male\",\"CS22B038\")\n",
    "print(dir(E1))\n",
    "# we cannot directly used but can use by th directory's instruction\n",
    "print(E1._name)\n",
    "E1._name = \"Aftab\"\n",
    "print(E1._name)\n",
    "w1 = Wipro(\"Sourav\",34,\"Male\",\"CS222022\")\n",
    "w1.print_data()\n",
    "# print(E1.name) , this line will give eror"
   ]
  },
  {
   "cell_type": "code",
   "execution_count": 34,
   "metadata": {},
   "outputs": [
    {
     "name": "stdout",
     "output_type": "stream",
     "text": [
      "kfds\n",
      "Sourav Sharma\n"
     ]
    }
   ],
   "source": [
    "# using getter and setter method for encapsulation\n",
    "\n",
    "class worker:\n",
    "    def __init__(self,name,age,gender,id):\n",
    "        self.__name  = name\n",
    "        self.__age = age\n",
    "        self.__id =id\n",
    "        self.gender = gender\n",
    "    def get_name(self):\n",
    "        return self.__name\n",
    "    def set_name(self,newName):\n",
    "        self.__name = newName\n",
    "l1 = worker(\"kfds\",33,\"MAle\",\"l-123\")\n",
    "print(l1.get_name())\n",
    "#Changing Name using setter method\n",
    "l1.set_name(\"Sourav Sharma\")\n",
    "print(l1.get_name())"
   ]
  }
 ],
 "metadata": {
  "kernelspec": {
   "display_name": "base",
   "language": "python",
   "name": "python3"
  },
  "language_info": {
   "codemirror_mode": {
    "name": "ipython",
    "version": 3
   },
   "file_extension": ".py",
   "mimetype": "text/x-python",
   "name": "python",
   "nbconvert_exporter": "python",
   "pygments_lexer": "ipython3",
   "version": "3.11.7"
  }
 },
 "nbformat": 4,
 "nbformat_minor": 2
}
