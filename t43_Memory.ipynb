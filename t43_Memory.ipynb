{
 "cells": [
  {
   "cell_type": "markdown",
   "metadata": {},
   "source": [
    "## Refrence Counting"
   ]
  },
  {
   "cell_type": "code",
   "execution_count": 2,
   "metadata": {},
   "outputs": [
    {
     "name": "stdout",
     "output_type": "stream",
     "text": [
      "2\n"
     ]
    }
   ],
   "source": [
    "import sys\n",
    "a=[]\n",
    "print(sys.getrefcount(a))"
   ]
  },
  {
   "cell_type": "markdown",
   "metadata": {},
   "source": [
    "### As we see the list \"a\" has a refrence count of 2, one from a and one from getref.. method\n"
   ]
  },
  {
   "cell_type": "code",
   "execution_count": 3,
   "metadata": {},
   "outputs": [
    {
     "name": "stdout",
     "output_type": "stream",
     "text": [
      "4\n"
     ]
    }
   ],
   "source": [
    "# now lets make some pointer to a\n",
    "b=a \n",
    "c=a\n",
    "print(sys.getrefcount(a))"
   ]
  },
  {
   "cell_type": "markdown",
   "metadata": {},
   "source": [
    "### as we see the ref count has increased"
   ]
  },
  {
   "cell_type": "code",
   "execution_count": 4,
   "metadata": {},
   "outputs": [],
   "source": [
    "## garbage collectoer \n",
    "import gc\n",
    "gc.enable()"
   ]
  },
  {
   "cell_type": "code",
   "execution_count": 5,
   "metadata": {},
   "outputs": [],
   "source": [
    "gc.disable()"
   ]
  },
  {
   "cell_type": "code",
   "execution_count": 6,
   "metadata": {},
   "outputs": [
    {
     "data": {
      "text/plain": [
       "22"
      ]
     },
     "execution_count": 6,
     "metadata": {},
     "output_type": "execute_result"
    }
   ],
   "source": [
    "gc.collect()"
   ]
  },
  {
   "cell_type": "code",
   "execution_count": 7,
   "metadata": {},
   "outputs": [
    {
     "name": "stdout",
     "output_type": "stream",
     "text": [
      "[{'collections': 198, 'collected': 1506, 'uncollectable': 0}, {'collections': 17, 'collected': 468, 'uncollectable': 0}, {'collections': 2, 'collected': 22, 'uncollectable': 0}]\n"
     ]
    }
   ],
   "source": [
    "print(gc.get_stats())"
   ]
  },
  {
   "cell_type": "code",
   "execution_count": 9,
   "metadata": {},
   "outputs": [
    {
     "name": "stdout",
     "output_type": "stream",
     "text": [
      "Object Haruti is created\n",
      "Object Toyata is created\n"
     ]
    }
   ],
   "source": [
    "# Creating a circular ref\n",
    "\n",
    "import gc\n",
    "class MyObject:\n",
    "    def __init__(self,name):\n",
    "        self.name = name\n",
    "        print(f\"Object {self.name} is created\")\n",
    "\n",
    "    def __del__(self):\n",
    "        print(f\"Object {self.name} is deleted\")\n",
    "\n",
    "obj1 = MyObject(\"Haruti\")\n",
    "obj2 = MyObject(\"Toyata\")\n",
    "obj1.ref = obj2\n",
    "obj2.ref =obj1\n",
    "\n",
    "del obj1\n",
    "del obj2"
   ]
  },
  {
   "cell_type": "code",
   "execution_count": 10,
   "metadata": {},
   "outputs": [
    {
     "name": "stdout",
     "output_type": "stream",
     "text": [
      "Object Haruti is deleted\n",
      "Object Toyata is deleted\n"
     ]
    },
    {
     "data": {
      "text/plain": [
       "621"
      ]
     },
     "execution_count": 10,
     "metadata": {},
     "output_type": "execute_result"
    }
   ],
   "source": [
    "# now manually activating garbage collector\n",
    "gc.collect()"
   ]
  },
  {
   "cell_type": "markdown",
   "metadata": {},
   "source": [
    "#### the more we exxecute object code more object will be crreated and and running\n",
    "#### gc collector will delete all"
   ]
  },
  {
   "cell_type": "code",
   "execution_count": 15,
   "metadata": {},
   "outputs": [
    {
     "name": "stdout",
     "output_type": "stream",
     "text": [
      "Object Haruti is created\n",
      "Object Toyata is created\n"
     ]
    }
   ],
   "source": [
    "# lets execute this more then one time\n",
    "import gc\n",
    "class MyObject:\n",
    "    def __init__(self,name):\n",
    "        self.name = name\n",
    "        print(f\"Object {self.name} is created\")\n",
    "\n",
    "    def __del__(self):\n",
    "        print(f\"Object {self.name} is deleted\")\n",
    "\n",
    "obj1 = MyObject(\"Haruti\")\n",
    "obj2 = MyObject(\"Toyata\")\n",
    "obj1.ref = obj2\n",
    "obj2.ref =obj1\n",
    "\n",
    "del obj1\n",
    "del obj2"
   ]
  },
  {
   "cell_type": "code",
   "execution_count": 16,
   "metadata": {},
   "outputs": [
    {
     "name": "stdout",
     "output_type": "stream",
     "text": [
      "Object Haruti is deleted\n",
      "Object Toyata is deleted\n",
      "Object Haruti is deleted\n",
      "Object Toyata is deleted\n",
      "Object Haruti is deleted\n",
      "Object Toyata is deleted\n",
      "Object Haruti is deleted\n",
      "Object Toyata is deleted\n"
     ]
    },
    {
     "data": {
      "text/plain": [
       "46"
      ]
     },
     "execution_count": 16,
     "metadata": {},
     "output_type": "execute_result"
    }
   ],
   "source": [
    "# and now deleting using garbage collector\n",
    "gc.collect()"
   ]
  },
  {
   "cell_type": "markdown",
   "metadata": {},
   "source": [
    "#### as we see there was duplicate objects and not got delted untill we did manually"
   ]
  },
  {
   "cell_type": "code",
   "execution_count": 17,
   "metadata": {},
   "outputs": [
    {
     "name": "stdout",
     "output_type": "stream",
     "text": [
      "0\n",
      "1\n",
      "2\n",
      "3\n",
      "4\n",
      "5\n",
      "6\n",
      "7\n",
      "8\n",
      "9\n",
      "10\n",
      "11\n"
     ]
    }
   ],
   "source": [
    "# Generators\n",
    "\n",
    "def grn_num(n):\n",
    "    for i in range(n):\n",
    "        yield i\n",
    "for num in grn_num(100000):\n",
    "    print(num)\n",
    "    if num>10:\n",
    "        break"
   ]
  },
  {
   "cell_type": "code",
   "execution_count": 18,
   "metadata": {},
   "outputs": [],
   "source": [
    "# TraceMalloc\n",
    "import tracemalloc\n",
    "def create_list():\n",
    "    return [i for i in range(100000)]\n",
    "def main():\n",
    "    tracemalloc.start()\n",
    "    create_list()\n",
    "    snapshot = tracemalloc.take_snapshot()\n",
    "    top_stats = snapshot.statistics('lineno')\n",
    "    print(\"[ TOP 10 ]\")\n",
    "    for stat in top_stats[:10]:\n",
    "        print(stat)"
   ]
  },
  {
   "cell_type": "code",
   "execution_count": 19,
   "metadata": {},
   "outputs": [
    {
     "name": "stdout",
     "output_type": "stream",
     "text": [
      "[ TOP 10 ]\n",
      "c:\\Users\\hp\\anaconda3\\Lib\\site-packages\\tornado\\platform\\asyncio.py:578: size=144 KiB, count=3, average=48.0 KiB\n",
      "c:\\Users\\hp\\anaconda3\\Lib\\asyncio\\windows_events.py:463: size=4129 B, count=1, average=4129 B\n",
      "c:\\Users\\hp\\anaconda3\\Lib\\asyncio\\windows_events.py:460: size=184 B, count=1, average=184 B\n",
      "c:\\Users\\hp\\anaconda3\\Lib\\asyncio\\windows_events.py:469: size=152 B, count=1, average=152 B\n",
      "c:\\Users\\hp\\anaconda3\\Lib\\site-packages\\traitlets\\traitlets.py:744: size=147 B, count=2, average=74 B\n",
      "c:\\Users\\hp\\anaconda3\\Lib\\site-packages\\tornado\\platform\\asyncio.py:549: size=144 B, count=3, average=48 B\n",
      "c:\\Users\\hp\\anaconda3\\Lib\\asyncio\\windows_events.py:763: size=144 B, count=1, average=144 B\n",
      "c:\\Users\\hp\\anaconda3\\Lib\\threading.py:320: size=120 B, count=2, average=60 B\n",
      "c:\\Users\\hp\\anaconda3\\Lib\\site-packages\\ipykernel\\iostream.py:286: size=120 B, count=1, average=120 B\n",
      "c:\\Users\\hp\\anaconda3\\Lib\\site-packages\\zmq\\sugar\\attrsettr.py:44: size=110 B, count=2, average=55 B\n"
     ]
    }
   ],
   "source": [
    "main()"
   ]
  }
 ],
 "metadata": {
  "kernelspec": {
   "display_name": "base",
   "language": "python",
   "name": "python3"
  },
  "language_info": {
   "codemirror_mode": {
    "name": "ipython",
    "version": 3
   },
   "file_extension": ".py",
   "mimetype": "text/x-python",
   "name": "python",
   "nbconvert_exporter": "python",
   "pygments_lexer": "ipython3",
   "version": "3.11.7"
  }
 },
 "nbformat": 4,
 "nbformat_minor": 2
}
