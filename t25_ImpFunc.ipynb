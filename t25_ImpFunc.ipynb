{
 "cells": [
  {
   "cell_type": "code",
   "execution_count": 3,
   "metadata": {},
   "outputs": [
    {
     "name": "stdout",
     "output_type": "stream",
     "text": [
      "Welcome there\n",
      "Welcome there\n"
     ]
    }
   ],
   "source": [
    "# function copy\n",
    "def welcome():\n",
    "    print(\"Welcome there\")\n",
    "\n",
    "welcome()\n",
    "wel = welcome   # welcome() it is function call ,so only welcome\n",
    "wel()"
   ]
  },
  {
   "cell_type": "code",
   "execution_count": 4,
   "metadata": {},
   "outputs": [
    {
     "name": "stdout",
     "output_type": "stream",
     "text": [
      "Welcome there\n"
     ]
    }
   ],
   "source": [
    "# now even if we will delete the welcome then also we will have all r=the functionality in the wel\n",
    "del welcome # welcome() it is function call ,so only welcome\n",
    "wel()"
   ]
  },
  {
   "cell_type": "code",
   "execution_count": 8,
   "metadata": {},
   "outputs": [
    {
     "name": "stdout",
     "output_type": "stream",
     "text": [
      "Welcome from main method\n",
      "Welcome to this course\n",
      "\n",
      "Visit Again\n"
     ]
    }
   ],
   "source": [
    "#closure functions \n",
    "def welcome_msg(func):\n",
    "    print(\"Welcome from main method\")\n",
    "    def sub_welcome():\n",
    "        print(\"Welcome to this course\")\n",
    "        func()\n",
    "        print(\"Visit Again\")\n",
    "    return sub_welcome()\n",
    "welcome_msg(print)\n",
    "#The code inside a function will only be executed when it is called\n",
    "# if we will not have return in the above function \n",
    "# then those 3 lines inside subfunction will not be executed"
   ]
  },
  {
   "cell_type": "markdown",
   "metadata": {},
   "source": [
    "# Decorators"
   ]
  },
  {
   "cell_type": "code",
   "execution_count": 9,
   "metadata": {},
   "outputs": [],
   "source": [
    "def course():\n",
    "    print(\"This is courase for complete ML\")"
   ]
  },
  {
   "cell_type": "code",
   "execution_count": 10,
   "metadata": {},
   "outputs": [
    {
     "name": "stdout",
     "output_type": "stream",
     "text": [
      "This is courase for complete ML\n"
     ]
    }
   ],
   "source": [
    "course()"
   ]
  },
  {
   "cell_type": "code",
   "execution_count": 11,
   "metadata": {},
   "outputs": [
    {
     "name": "stdout",
     "output_type": "stream",
     "text": [
      "Welcome from main method\n",
      "Welcome to this course\n",
      "This will go as input function in welcome_msg function\n",
      "Visit Again\n"
     ]
    }
   ],
   "source": [
    "@welcome_msg\n",
    "def course():\n",
    "    print(\"This will go as input function in welcome_msg function\")\n",
    "#this is decorator the @andfunction name this take the vary defined function as input\n",
    "# we dont need to call the function"
   ]
  },
  {
   "cell_type": "code",
   "execution_count": 12,
   "metadata": {},
   "outputs": [
    {
     "name": "stdout",
     "output_type": "stream",
     "text": [
      "Function is getting called\n",
      "Greeting everybody\n",
      "The function has executed\n"
     ]
    }
   ],
   "source": [
    "# lets have an example\n",
    "\n",
    "def decorate(func):\n",
    "    print(\"Function is getting called\")\n",
    "    func()\n",
    "    print(\"The function has executed\")\n",
    "\n",
    "@decorate\n",
    "def helo():\n",
    "    print(\"Greeting everybody\")"
   ]
  }
 ],
 "metadata": {
  "kernelspec": {
   "display_name": "base",
   "language": "python",
   "name": "python3"
  },
  "language_info": {
   "codemirror_mode": {
    "name": "ipython",
    "version": 3
   },
   "file_extension": ".py",
   "mimetype": "text/x-python",
   "name": "python",
   "nbconvert_exporter": "python",
   "pygments_lexer": "ipython3",
   "version": "3.11.7"
  }
 },
 "nbformat": 4,
 "nbformat_minor": 2
}
