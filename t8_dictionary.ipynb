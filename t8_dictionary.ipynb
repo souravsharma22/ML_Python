{
 "cells": [
  {
   "cell_type": "code",
   "execution_count": 1,
   "metadata": {},
   "outputs": [
    {
     "name": "stdout",
     "output_type": "stream",
     "text": [
      "<class 'dict'>\n",
      "<class 'dict'>\n"
     ]
    }
   ],
   "source": [
    "#Creating a dictionary\n",
    "d1 = {}\n",
    "d2 = dict()\n",
    "print(type(d1))\n",
    "print(type(d2))"
   ]
  },
  {
   "cell_type": "code",
   "execution_count": 2,
   "metadata": {},
   "outputs": [],
   "source": [
    "del d1\n",
    "del d2"
   ]
  },
  {
   "cell_type": "code",
   "execution_count": 4,
   "metadata": {},
   "outputs": [
    {
     "name": "stdout",
     "output_type": "stream",
     "text": [
      "{'Name': 'Sourav', 'Age': 21, 'Calss': 'B.Tech'}\n"
     ]
    }
   ],
   "source": [
    "d1 = {\"Name\":\"Sourav\",\"Age\":21,\"Calss\":\"B.Tech\"}\n",
    "print(d1)"
   ]
  },
  {
   "cell_type": "code",
   "execution_count": 5,
   "metadata": {},
   "outputs": [
    {
     "name": "stdout",
     "output_type": "stream",
     "text": [
      "Sourav\n"
     ]
    }
   ],
   "source": [
    "#Methods to access the dictionary element\n",
    "print(d1[\"Name\"])"
   ]
  },
  {
   "cell_type": "code",
   "execution_count": 6,
   "metadata": {},
   "outputs": [
    {
     "name": "stdout",
     "output_type": "stream",
     "text": [
      "Not Available\n"
     ]
    }
   ],
   "source": [
    "# using the get method\n",
    "print(d1.get(\"name\",\"Not Available\"))"
   ]
  },
  {
   "cell_type": "code",
   "execution_count": 7,
   "metadata": {},
   "outputs": [
    {
     "name": "stdout",
     "output_type": "stream",
     "text": [
      "Sourav\n"
     ]
    }
   ],
   "source": [
    "print(d1.get(\"Name\",\"Not Available\"))"
   ]
  },
  {
   "cell_type": "code",
   "execution_count": 8,
   "metadata": {},
   "outputs": [
    {
     "name": "stdout",
     "output_type": "stream",
     "text": [
      "{'Name': 'Sourav', 'Age': 22, 'Calss': 'B.Tech'}\n",
      "{'Name': 'Sourav', 'Age': 22, 'Calss': 'B.Tech', 'Grade': 'AA'}\n"
     ]
    }
   ],
   "source": [
    "#Changing , deleting and adding in dictionary\n",
    "d1[\"Age\"]= 22\n",
    "print(d1)\n",
    "d1[\"Grade\"]= \"AA\"\n",
    "print(d1)"
   ]
  },
  {
   "cell_type": "code",
   "execution_count": 9,
   "metadata": {},
   "outputs": [
    {
     "name": "stdout",
     "output_type": "stream",
     "text": [
      "{'Name': 'Sourav', 'Age': 22, 'Grade': 'AA'}\n"
     ]
    }
   ],
   "source": [
    "del d1[\"Calss\"]\n",
    "print(d1)"
   ]
  },
  {
   "cell_type": "code",
   "execution_count": 12,
   "metadata": {},
   "outputs": [
    {
     "name": "stdout",
     "output_type": "stream",
     "text": [
      "dict_keys(['Name', 'Age', 'Grade'])\n",
      "dict_values(['Sourav', 22, 'AA'])\n",
      "dict_items([('Name', 'Sourav'), ('Age', 22), ('Grade', 'AA')])\n"
     ]
    }
   ],
   "source": [
    "#Methods in the dictionary\n",
    "print(d1.keys())\n",
    "print(d1.values())\n",
    "print(d1.items())"
   ]
  },
  {
   "cell_type": "code",
   "execution_count": 13,
   "metadata": {},
   "outputs": [
    {
     "name": "stdout",
     "output_type": "stream",
     "text": [
      "{'Name': 'Sharma', 'Age': 22, 'Grade': 'AA'}\n",
      "{'Name': 'Sharma', 'Age': 22, 'Grade': 'AA'}\n"
     ]
    }
   ],
   "source": [
    "#shallow copy \n",
    "c_d1 = d1\n",
    "c_d1[\"Name\"]=\"Sharma\"\n",
    "print(d1)\n",
    "print(c_d1)"
   ]
  },
  {
   "cell_type": "code",
   "execution_count": 14,
   "metadata": {},
   "outputs": [
    {
     "name": "stdout",
     "output_type": "stream",
     "text": [
      "{'Name': 'Sourav', 'Age': 22, 'Grade': 'AA'}\n",
      "{'Name': 'Sharma', 'Age': 22, 'Grade': 'AA'}\n"
     ]
    }
   ],
   "source": [
    "#as we see both dictionary's data have been changed because the were just\n",
    "# two pointers pointing at the same object\n",
    "#we need to make a copy in memory to make a actual new object\n",
    "c_d2 = d1.copy()\n",
    "d1[\"Name\"]=\"Sourav\"\n",
    "print(d1)\n",
    "print(c_d2)"
   ]
  },
  {
   "cell_type": "code",
   "execution_count": 16,
   "metadata": {},
   "outputs": [
    {
     "name": "stdout",
     "output_type": "stream",
     "text": [
      "Name\n",
      "Age\n",
      "Grade\n"
     ]
    }
   ],
   "source": [
    "#iterating in the list\n",
    "\n",
    "#iterating with keys\n",
    "for key in d1.keys():\n",
    "    print(key)"
   ]
  },
  {
   "cell_type": "code",
   "execution_count": 17,
   "metadata": {},
   "outputs": [
    {
     "name": "stdout",
     "output_type": "stream",
     "text": [
      "Sourav\n",
      "22\n",
      "AA\n"
     ]
    }
   ],
   "source": [
    "#iteratiion over value\n",
    "for value in d1.values():\n",
    "    print(value)"
   ]
  },
  {
   "cell_type": "code",
   "execution_count": 18,
   "metadata": {},
   "outputs": [
    {
     "name": "stdout",
     "output_type": "stream",
     "text": [
      "Name Sourav\n",
      "Age 22\n",
      "Grade AA\n"
     ]
    }
   ],
   "source": [
    "#iteration over key value pair\n",
    "for key , value in d1.items():\n",
    "    print(key, value)"
   ]
  },
  {
   "cell_type": "code",
   "execution_count": 19,
   "metadata": {},
   "outputs": [
    {
     "name": "stdout",
     "output_type": "stream",
     "text": [
      "{'s1': {'name': 'Sourav', 'Age': 23, 'Gender': 'male'}, 's2': {'name': 'Gourav', 'Age': 25, 'Gender': 'male'}, 's3': {'name': 'Survi', 'Age': 20, 'Gender': 'Female'}}\n"
     ]
    }
   ],
   "source": [
    "#nested dictionary\n",
    "dis= {\"s1\":{\"name\":\"Sourav\",\"Age\":23,\"Gender\":\"male\"},\"s2\":{\"name\":\"Gourav\",\"Age\":25,\"Gender\":\"male\"},\"s3\":{\"name\":\"Survi\",\"Age\":20,\"Gender\":\"Female\"}}\n",
    "print(dis)"
   ]
  },
  {
   "cell_type": "code",
   "execution_count": 21,
   "metadata": {},
   "outputs": [
    {
     "name": "stdout",
     "output_type": "stream",
     "text": [
      "dict_items([('s1', {'name': 'Sourav', 'Age': 23, 'Gender': 'male'}), ('s2', {'name': 'Gourav', 'Age': 25, 'Gender': 'male'}), ('s3', {'name': 'Survi', 'Age': 20, 'Gender': 'Female'})])\n"
     ]
    }
   ],
   "source": [
    "print(dis.items())"
   ]
  },
  {
   "cell_type": "code",
   "execution_count": 24,
   "metadata": {},
   "outputs": [
    {
     "name": "stdout",
     "output_type": "stream",
     "text": [
      "{'name': 'Sourav', 'Age': 23, 'Gender': 'male'}\n",
      "{'name': 'Gourav', 'Age': 25, 'Gender': 'male'}\n",
      "{'name': 'Survi', 'Age': 20, 'Gender': 'Female'}\n"
     ]
    }
   ],
   "source": [
    "for dist in dis:\n",
    "    print(dis[dist])"
   ]
  },
  {
   "cell_type": "code",
   "execution_count": 25,
   "metadata": {},
   "outputs": [
    {
     "name": "stdout",
     "output_type": "stream",
     "text": [
      "s1 {'name': 'Sourav', 'Age': 23, 'Gender': 'male'}\n",
      "name Sourav\n",
      "Age 23\n",
      "Gender male\n",
      "s2 {'name': 'Gourav', 'Age': 25, 'Gender': 'male'}\n",
      "name Gourav\n",
      "Age 25\n",
      "Gender male\n",
      "s3 {'name': 'Survi', 'Age': 20, 'Gender': 'Female'}\n",
      "name Survi\n",
      "Age 20\n",
      "Gender Female\n"
     ]
    }
   ],
   "source": [
    "for key , value in dis.items():\n",
    "    print(key,value)\n",
    "    for k,v in value.items():\n",
    "        print(k,v)"
   ]
  },
  {
   "cell_type": "code",
   "execution_count": 26,
   "metadata": {},
   "outputs": [
    {
     "name": "stdout",
     "output_type": "stream",
     "text": [
      "{0: 0, 1: 1, 2: 4, 3: 9, 4: 16, 5: 25, 6: 36, 7: 49, 8: 64, 9: 81, 10: 100}\n"
     ]
    }
   ],
   "source": [
    "#Dictionary Comprehension\n",
    "sq = { x:x*x for x in range(11)}\n",
    "print(sq)"
   ]
  },
  {
   "cell_type": "code",
   "execution_count": 27,
   "metadata": {},
   "outputs": [
    {
     "name": "stdout",
     "output_type": "stream",
     "text": [
      "{0: 0, 2: 4, 4: 16, 6: 36, 8: 64, 10: 100}\n"
     ]
    }
   ],
   "source": [
    "#Dictionary Comprehension with condition\n",
    "tab = {x:x**2 for x in range(11) if x%2==0}\n",
    "print(tab)\n"
   ]
  },
  {
   "cell_type": "code",
   "execution_count": 30,
   "metadata": {},
   "outputs": [
    {
     "name": "stdout",
     "output_type": "stream",
     "text": [
      "{1: 1, 2: 2, 3: 4, 4: 1, 5: 2, 6: 3, 7: 1, 8: 1, 9: 1}\n"
     ]
    }
   ],
   "source": [
    "#counting frequency\n",
    "lis = [1,2,3,3,2,3,3,4,5,5,6,6,6,7,8,9]\n",
    "freq = {1:0,2:0,3:0,4:0,5:0,6:0,7:0,8:0,9:0}\n",
    "for i in lis:\n",
    "    for key in freq.keys():\n",
    "        if ( i==key):\n",
    "            freq[key] +=1\n",
    "print(freq)\n"
   ]
  },
  {
   "cell_type": "code",
   "execution_count": 31,
   "metadata": {},
   "outputs": [
    {
     "name": "stdout",
     "output_type": "stream",
     "text": [
      "{1: 1, 2: 2, 3: 4, 4: 1, 5: 2, 6: 3, 7: 1, 8: 1, 9: 1}\n"
     ]
    }
   ],
   "source": [
    "#A better solution and more genralized \n",
    "frequency = {}\n",
    "for num in lis:\n",
    "    if num  in frequency:\n",
    "        frequency[num] +=1\n",
    "    else:\n",
    "        frequency[num] =1\n",
    "print(frequency)\n"
   ]
  }
 ],
 "metadata": {
  "kernelspec": {
   "display_name": "base",
   "language": "python",
   "name": "python3"
  },
  "language_info": {
   "codemirror_mode": {
    "name": "ipython",
    "version": 3
   },
   "file_extension": ".py",
   "mimetype": "text/x-python",
   "name": "python",
   "nbconvert_exporter": "python",
   "pygments_lexer": "ipython3",
   "version": "3.11.7"
  }
 },
 "nbformat": 4,
 "nbformat_minor": 2
}
