{
 "cells": [
  {
   "cell_type": "code",
   "execution_count": 2,
   "metadata": {},
   "outputs": [
    {
     "name": "stdout",
     "output_type": "stream",
     "text": [
      "Sourav,B.Tech,CSE,8.95\n",
      "Soumajit,B.Tech,EE,7.95\n"
     ]
    }
   ],
   "source": [
    "# reading the file\n",
    "\n",
    "with open(\"t15_z.txt\",'r') as file:\n",
    "    content = file.read()\n",
    "    print(content)"
   ]
  },
  {
   "cell_type": "code",
   "execution_count": 3,
   "metadata": {},
   "outputs": [
    {
     "name": "stdout",
     "output_type": "stream",
     "text": [
      "Sourav,B.Tech,CSE,8.95\n",
      "\n",
      "Soumajit,B.Tech,EE,7.95\n"
     ]
    }
   ],
   "source": [
    "# diffrent option of reading\n",
    "with open(\"t15_z.txt\",'r') as file:\n",
    "    for line in file:\n",
    "        print(line)"
   ]
  },
  {
   "cell_type": "code",
   "execution_count": 5,
   "metadata": {},
   "outputs": [
    {
     "name": "stdout",
     "output_type": "stream",
     "text": [
      "Sourav,B.Tech,CSE,8.95\n",
      "Soumajit,B.Tech,EE,7.95\n",
      "Aftab,B.Tech,CSE,7.90\n",
      "Aniket,B.Tech,ME,7.70\n"
     ]
    }
   ],
   "source": [
    "# diffrent option of reading\n",
    "with open(\"t15_z.txt\",'r') as file:\n",
    "    for line in file:\n",
    "        print(line.strip())"
   ]
  },
  {
   "cell_type": "code",
   "execution_count": 10,
   "metadata": {},
   "outputs": [],
   "source": [
    "# diffrent option of reading\n",
    "with open(\"t16_z.txt\",'w') as file:\n",
    "    file.write(\"Hello Wrorld\")\n",
    "    file.write(\"Entire content will be overwritten\")"
   ]
  },
  {
   "cell_type": "code",
   "execution_count": 17,
   "metadata": {},
   "outputs": [],
   "source": [
    "# diffrent option of appending\n",
    "with open(\"t16_z.txt\",'a') as file:\n",
    "    file.write(\"\\nAppend the data is better\\n\")\n",
    "    file.write(\"Hello Wrorld\\n\")\n",
    "    file.write(\"No file overwritten\")"
   ]
  },
  {
   "cell_type": "code",
   "execution_count": 18,
   "metadata": {},
   "outputs": [],
   "source": [
    "# diffrent option of writing /appending\n",
    "with open(\"t16_z.txt\",'a') as file:\n",
    "    file.writelines(\"This is the newn line\")\n",
    "    file.write(\"Entire content will remain same in append mode\")"
   ]
  },
  {
   "cell_type": "markdown",
   "metadata": {},
   "source": [
    "##Reading writing in binary file"
   ]
  },
  {
   "cell_type": "code",
   "execution_count": 19,
   "metadata": {},
   "outputs": [],
   "source": [
    "# in binary file we use rb instead of r \n",
    "# we just add b in mode"
   ]
  },
  {
   "cell_type": "code",
   "execution_count": 1,
   "metadata": {},
   "outputs": [
    {
     "name": "stdout",
     "output_type": "stream",
     "text": [
      "['.git', 'mypackage', 'README.md', 't10_functions2.ipynb', 't11_Lambda.ipynb', 't12_Filter.ipynb', 't13_assignment1.ipynb', 't14_module.ipynb', 't15_module.ipynb', 't15_z.txt', 't16_readWrite.ipynb', 't16_z.txt', 't1_datatypes.ipynb', 't2_operation.ipynb', 't3_Conditional.ipynb', 't4_Loops.ipynb', 't5_List.ipynb', 't6_tuple.ipynb', 't7_Sets.ipynb', 't8_dictionary.ipynb', 't9_funtions.ipynb']\n"
     ]
    }
   ],
   "source": [
    "# os directory\n",
    "import os\n",
    "print(os.listdir())"
   ]
  },
  {
   "cell_type": "code",
   "execution_count": 2,
   "metadata": {},
   "outputs": [
    {
     "name": "stdout",
     "output_type": "stream",
     "text": [
      "c:\\ML\\ML_Python\n"
     ]
    }
   ],
   "source": [
    "print(os.getcwd())"
   ]
  },
  {
   "cell_type": "code",
   "execution_count": 3,
   "metadata": {},
   "outputs": [
    {
     "name": "stdout",
     "output_type": "stream",
     "text": [
      "c:\\ML\\ML_Python\\New_Folder\\File.txt\n"
     ]
    }
   ],
   "source": [
    "folder = \"New_Folder\"\n",
    "file = \"File.txt\"\n",
    "new_path = os.path.join(os.getcwd(),folder,file)\n",
    "print(new_path)"
   ]
  },
  {
   "cell_type": "code",
   "execution_count": 4,
   "metadata": {},
   "outputs": [
    {
     "name": "stdout",
     "output_type": "stream",
     "text": [
      "The described file do not exists\n"
     ]
    }
   ],
   "source": [
    "#now if the prescribed path exists or not we can check\n",
    "import os\n",
    "if os.path.isdir(new_path):\n",
    "    print(\"This is a directory\")\n",
    "elif os.path.isfile(new_path):\n",
    "    print(\"it is a file\")\n",
    "else:\n",
    "    print(\"The described file do not exists\")\n",
    "\n"
   ]
  }
 ],
 "metadata": {
  "kernelspec": {
   "display_name": "base",
   "language": "python",
   "name": "python3"
  },
  "language_info": {
   "codemirror_mode": {
    "name": "ipython",
    "version": 3
   },
   "file_extension": ".py",
   "mimetype": "text/x-python",
   "name": "python",
   "nbconvert_exporter": "python",
   "pygments_lexer": "ipython3",
   "version": "3.11.7"
  }
 },
 "nbformat": 4,
 "nbformat_minor": 2
}
