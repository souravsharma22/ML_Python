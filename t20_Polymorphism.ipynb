{
 "cells": [
  {
   "cell_type": "code",
   "execution_count": 1,
   "metadata": {},
   "outputs": [
    {
     "name": "stdout",
     "output_type": "stream",
     "text": [
      "Animal speak his sound\n",
      "dog says woof\n",
      "cat says meow\n"
     ]
    }
   ],
   "source": [
    "#polymorphism is acheived by method overriding\n",
    "# Method overring is redefining a parent class method in child class\n",
    "class Animale :\n",
    "    def speak(self):\n",
    "        print(\"Animal speak his sound\")\n",
    "class dog(Animale):\n",
    "    def speak(self):\n",
    "        print(\"dog says woof\")\n",
    "class cat(Animale):\n",
    "    def speak(self):\n",
    "        print(\"cat says meow\")\n",
    "\n",
    "# Now creating a object of all these classes and calling the same method\n",
    "a1 = Animale()\n",
    "a2 = dog()\n",
    "a3 = cat()\n",
    "a1.speak()\n",
    "a2.speak()\n",
    "a3.speak()"
   ]
  },
  {
   "cell_type": "code",
   "execution_count": 8,
   "metadata": {},
   "outputs": [
    {
     "name": "stdout",
     "output_type": "stream",
     "text": [
      "Not defined\n",
      "The area is Not defined\n",
      "The area is 24\n",
      "The area is 153.86\n"
     ]
    }
   ],
   "source": [
    "# poly morphism using function and methods\n",
    "class shape:\n",
    "    def area(self):\n",
    "        return \"Not defined\"\n",
    "\n",
    "class rectangle(shape):\n",
    "    def __init__(self,height,width) :\n",
    "        self.height= height\n",
    "        self.width = width\n",
    "    def area(self):\n",
    "        return self.height*self.width\n",
    "    \n",
    "class cicle(shape):\n",
    "    def __init__(self,height) :\n",
    "        self.height= height\n",
    "    def area(self):\n",
    "        return (self.height**2)*3.14\n",
    "\n",
    "#let's create a printing function\n",
    "def print_area(s):\n",
    "    print(f\"The area is {s.area()}\")\n",
    "\n",
    "s1 = shape()\n",
    "s2 = rectangle(4,6)\n",
    "s3= cicle(7)\n",
    "print(s1.area())\n",
    "print_area(s1)\n",
    "print_area(s2)\n",
    "print_area(s3)"
   ]
  },
  {
   "cell_type": "markdown",
   "metadata": {},
   "source": [
    "### Abstact base class "
   ]
  },
  {
   "cell_type": "code",
   "execution_count": 9,
   "metadata": {},
   "outputs": [
    {
     "name": "stdout",
     "output_type": "stream",
     "text": [
      "This is a car engin\n",
      "This is a Motorcar engin\n"
     ]
    }
   ],
   "source": [
    "from abc import ABC,abstractmethod\n",
    "\n",
    "class Vehicle:\n",
    "    @abstractmethod\n",
    "    def startengin(self):\n",
    "        pass\n",
    "\n",
    "class car(Vehicle):\n",
    "    def startengin(self):\n",
    "        print(\"This is a car engin\")\n",
    "class motorcar(Vehicle):\n",
    "    def startengin(self):\n",
    "        print(\"This is a Motorcar engin\")\n",
    "\n",
    "c1= car()\n",
    "c2 = motorcar()\n",
    "c1.startengin()\n",
    "c2.startengin()"
   ]
  }
 ],
 "metadata": {
  "kernelspec": {
   "display_name": "base",
   "language": "python",
   "name": "python3"
  },
  "language_info": {
   "codemirror_mode": {
    "name": "ipython",
    "version": 3
   },
   "file_extension": ".py",
   "mimetype": "text/x-python",
   "name": "python",
   "nbconvert_exporter": "python",
   "pygments_lexer": "ipython3",
   "version": "3.11.7"
  }
 },
 "nbformat": 4,
 "nbformat_minor": 2
}
