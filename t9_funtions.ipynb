{
 "cells": [
  {
   "cell_type": "code",
   "execution_count": 26,
   "metadata": {},
   "outputs": [],
   "source": [
    "#Starting with functions lets make a odd/even cheker\n",
    "def iseven (num):\n",
    "    value = \"Number is Odd \"\n",
    "    if(num%2==0):\n",
    "        value = \"Number is even\"\n",
    "    return value"
   ]
  },
  {
   "cell_type": "code",
   "execution_count": 27,
   "metadata": {},
   "outputs": [
    {
     "name": "stdout",
     "output_type": "stream",
     "text": [
      "Number is Odd \n"
     ]
    }
   ],
   "source": [
    "i = int(input(\"Enter the number\"))\n",
    "print(iseven(i))"
   ]
  },
  {
   "cell_type": "code",
   "execution_count": 28,
   "metadata": {},
   "outputs": [
    {
     "name": "stdout",
     "output_type": "stream",
     "text": [
      "13\n"
     ]
    }
   ],
   "source": [
    "# fuction with multiple parameter \n",
    "def summa(a,b):\n",
    "    return a+b\n",
    "\n",
    "print(summa(4,9))"
   ]
  },
  {
   "cell_type": "code",
   "execution_count": 29,
   "metadata": {},
   "outputs": [
    {
     "name": "stdout",
     "output_type": "stream",
     "text": [
      "Hello Sourav Sharma welcome to the Kiran Academy\n",
      "Hello Guest welcome to the Kiran Academy\n"
     ]
    }
   ],
   "source": [
    "# fuction to welcome someone with default value\n",
    "def greet(name=\"Guest\"):\n",
    "    print(f\"Hello {name} welcome to the Kiran Academy\")\n",
    "\n",
    "greet(\"Sourav Sharma\")\n",
    "greet()\n",
    "# as we will see this fuction call will not give any error even after \n",
    "# we dont pass any value as it will autometically take the defined default vaue"
   ]
  },
  {
   "cell_type": "code",
   "execution_count": 30,
   "metadata": {},
   "outputs": [
    {
     "name": "stdout",
     "output_type": "stream",
     "text": [
      "1\n",
      "2\n",
      "3\n",
      "4\n",
      "2\n",
      "hello word\n",
      "aalala\n",
      "Hareeeee\n"
     ]
    }
   ],
   "source": [
    "# now defing functions with variable arguments\n",
    "def print_data(*args):\n",
    "    for value in args:\n",
    "        print(value)\n",
    "\n",
    "print_data(1,2,3,4,2,\"hello word\",\"aalala\",\"Hareeeee\")"
   ]
  },
  {
   "cell_type": "code",
   "execution_count": 34,
   "metadata": {},
   "outputs": [],
   "source": [
    "# now when we have specified key and value pair then we use double star (**args) as argument in function\n",
    "def print_key(**kargs):\n",
    "    for key,Value in kargs.items():\n",
    "        print(f\"{key} : {Value}\")"
   ]
  },
  {
   "cell_type": "code",
   "execution_count": 35,
   "metadata": {},
   "outputs": [
    {
     "name": "stdout",
     "output_type": "stream",
     "text": [
      "name : Sourav\n",
      "age : 21\n",
      "gender : Male\n",
      "Class : B.Tech\n"
     ]
    }
   ],
   "source": [
    "print_key(name=\"Sourav\",age=\"21\",gender=\"Male\",Class =\"B.Tech\")"
   ]
  },
  {
   "cell_type": "code",
   "execution_count": 36,
   "metadata": {},
   "outputs": [
    {
     "name": "stdout",
     "output_type": "stream",
     "text": [
      "1\n",
      "2\n",
      "3\n",
      "4\n",
      "2\n",
      "hello word\n",
      "aalala\n",
      "Hareeeee\n",
      "name : Sourav\n",
      "age : 21\n",
      "gender : Male\n",
      "Class : B.Tech\n"
     ]
    }
   ],
   "source": [
    "# and we can use combined form\n",
    "def combine(*args,**kargs):\n",
    "    for value in args:\n",
    "        print(value)\n",
    "    for key,Value in kargs.items():\n",
    "        print(f\"{key} : {Value}\")\n",
    "\n",
    "combine(1,2,3,4,2,\"hello word\",\"aalala\",\"Hareeeee\",name=\"Sourav\",age=21,gender=\"Male\",Class =\"B.Tech\")"
   ]
  },
  {
   "cell_type": "code",
   "execution_count": 41,
   "metadata": {},
   "outputs": [
    {
     "data": {
      "text/plain": [
       "(5, 6, 30)"
      ]
     },
     "execution_count": 41,
     "metadata": {},
     "output_type": "execute_result"
    }
   ],
   "source": [
    "# in python function cal return multiple parameters\n",
    "def mul(a,b):\n",
    "    return a,b,a*b\n",
    "mul(5,6)"
   ]
  }
 ],
 "metadata": {
  "kernelspec": {
   "display_name": "base",
   "language": "python",
   "name": "python3"
  },
  "language_info": {
   "codemirror_mode": {
    "name": "ipython",
    "version": 3
   },
   "file_extension": ".py",
   "mimetype": "text/x-python",
   "name": "python",
   "nbconvert_exporter": "python",
   "pygments_lexer": "ipython3",
   "version": "3.11.7"
  }
 },
 "nbformat": 4,
 "nbformat_minor": 2
}
