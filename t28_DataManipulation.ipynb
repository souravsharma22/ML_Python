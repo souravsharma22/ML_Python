{
 "cells": [
  {
   "cell_type": "code",
   "execution_count": 1,
   "metadata": {},
   "outputs": [],
   "source": [
    "import pandas as pd"
   ]
  },
  {
   "cell_type": "code",
   "execution_count": 2,
   "metadata": {},
   "outputs": [
    {
     "name": "stdout",
     "output_type": "stream",
     "text": [
      "     Name      HEX               RGB\n",
      "0   White  #FFFFFF  rgb(100,100,100)\n",
      "1  Silver  #C0C0C0     rgb(75,75,75)\n",
      "2    Gray  #808080     rgb(50,50,50)\n",
      "3   Black  #000000        rgb(0,0,0)\n",
      "4     Red  #FF0000      rgb(100,0,0)\n"
     ]
    }
   ],
   "source": [
    "df = pd.read_csv('t28_z.csv')\n",
    "print(df.head())"
   ]
  },
  {
   "cell_type": "code",
   "execution_count": 3,
   "metadata": {},
   "outputs": [
    {
     "name": "stdout",
     "output_type": "stream",
     "text": [
      "       Name      HEX               RGB\n",
      "0     White  #FFFFFF  rgb(100,100,100)\n",
      "1    Silver  #C0C0C0     rgb(75,75,75)\n",
      "2      Gray  #808080     rgb(50,50,50)\n",
      "3     Black  #000000        rgb(0,0,0)\n",
      "4       Red  #FF0000      rgb(100,0,0)\n",
      "5    Maroon  #800000       rgb(50,0,0)\n",
      "6    Yellow  #FFFF00    rgb(100,100,0)\n",
      "7     Olive  #808000      rgb(50,50,0)\n",
      "8      Lime  #00FF00      rgb(0,100,0)\n",
      "9     Green  #008000       rgb(0,50,0)\n",
      "10     Aqua  #00FFFF    rgb(0,100,100)\n",
      "11     Teal  #008080      rgb(0,50,50)\n",
      "12     Blue  #0000FF      rgb(0,0,100)\n",
      "13     Navy  #000080       rgb(0,0,50)\n",
      "14  Fuchsia  #FF00FF    rgb(100,0,100)\n",
      "15   Purple  #800080      rgb(50,0,50)\n"
     ]
    }
   ],
   "source": [
    "print(df)"
   ]
  },
  {
   "cell_type": "code",
   "execution_count": 4,
   "metadata": {},
   "outputs": [],
   "source": [
    "df[\"sales\"]=[12,22,34,23,45,56,75,35,25,53,10,29,27,33,62,26]"
   ]
  },
  {
   "cell_type": "code",
   "execution_count": 5,
   "metadata": {},
   "outputs": [
    {
     "name": "stdout",
     "output_type": "stream",
     "text": [
      "       Name      HEX               RGB  sales\n",
      "0     White  #FFFFFF  rgb(100,100,100)     12\n",
      "1    Silver  #C0C0C0     rgb(75,75,75)     22\n",
      "2      Gray  #808080     rgb(50,50,50)     34\n",
      "3     Black  #000000        rgb(0,0,0)     23\n",
      "4       Red  #FF0000      rgb(100,0,0)     45\n",
      "5    Maroon  #800000       rgb(50,0,0)     56\n",
      "6    Yellow  #FFFF00    rgb(100,100,0)     75\n",
      "7     Olive  #808000      rgb(50,50,0)     35\n",
      "8      Lime  #00FF00      rgb(0,100,0)     25\n",
      "9     Green  #008000       rgb(0,50,0)     53\n",
      "10     Aqua  #00FFFF    rgb(0,100,100)     10\n",
      "11     Teal  #008080      rgb(0,50,50)     29\n",
      "12     Blue  #0000FF      rgb(0,0,100)     27\n",
      "13     Navy  #000080       rgb(0,0,50)     33\n",
      "14  Fuchsia  #FF00FF    rgb(100,0,100)     62\n",
      "15   Purple  #800080      rgb(50,0,50)     26\n"
     ]
    }
   ],
   "source": [
    "print(df)"
   ]
  },
  {
   "cell_type": "code",
   "execution_count": 6,
   "metadata": {},
   "outputs": [
    {
     "name": "stdout",
     "output_type": "stream",
     "text": [
      "     Name    HEX    RGB  sales\n",
      "0   False  False  False  False\n",
      "1   False  False  False  False\n",
      "2   False  False  False  False\n",
      "3   False  False  False  False\n",
      "4   False  False  False  False\n",
      "5   False  False  False  False\n",
      "6   False  False  False  False\n",
      "7   False  False  False  False\n",
      "8   False  False  False  False\n",
      "9   False  False  False  False\n",
      "10  False  False  False  False\n",
      "11  False  False  False  False\n",
      "12  False  False  False  False\n",
      "13  False  False  False  False\n",
      "14  False  False  False  False\n",
      "15  False  False  False  False\n"
     ]
    }
   ],
   "source": [
    "print(df.isnull())"
   ]
  },
  {
   "cell_type": "code",
   "execution_count": 8,
   "metadata": {},
   "outputs": [
    {
     "name": "stdout",
     "output_type": "stream",
     "text": [
      "Name     0\n",
      "HEX      0\n",
      "RGB      0\n",
      "sales    0\n",
      "dtype: int64\n"
     ]
    }
   ],
   "source": [
    "print(df.isnull().sum())"
   ]
  },
  {
   "cell_type": "code",
   "execution_count": 9,
   "metadata": {},
   "outputs": [],
   "source": [
    "df.to_csv(\"t28_z.csv\")"
   ]
  },
  {
   "cell_type": "code",
   "execution_count": 16,
   "metadata": {},
   "outputs": [],
   "source": [
    "missdf = pd.read_csv(\"t28_z.csv\",index_col=0)"
   ]
  },
  {
   "cell_type": "code",
   "execution_count": 17,
   "metadata": {},
   "outputs": [
    {
     "name": "stdout",
     "output_type": "stream",
     "text": [
      "       Name      HEX               RGB  sales\n",
      "0     White  #FFFFFF  rgb(100,100,100)   12.0\n",
      "1    Silver  #C0C0C0     rgb(75,75,75)   22.0\n",
      "2      Gray  #808080     rgb(50,50,50)   34.0\n",
      "3     Black  #000000        rgb(0,0,0)    NaN\n",
      "4       Red  #FF0000      rgb(100,0,0)   45.0\n",
      "5    Maroon  #800000       rgb(50,0,0)   56.0\n",
      "6       NaN  #FFFF00    rgb(100,100,0)   75.0\n",
      "7     Olive  #808000      rgb(50,50,0)   35.0\n",
      "8      Lime      NaN      rgb(0,100,0)   25.0\n",
      "9     Green  #008000       rgb(0,50,0)   53.0\n",
      "10     Aqua  #00FFFF    rgb(0,100,100)   10.0\n",
      "11     Teal  #008080      rgb(0,50,50)   29.0\n",
      "12     Blue  #0000FF               NaN   27.0\n",
      "13      NaN  #000080       rgb(0,0,50)   33.0\n",
      "14  Fuchsia  #FF00FF    rgb(100,0,100)   62.0\n",
      "15   Purple      NaN      rgb(50,0,50)   26.0\n"
     ]
    }
   ],
   "source": [
    "print(missdf)"
   ]
  },
  {
   "cell_type": "code",
   "execution_count": 18,
   "metadata": {},
   "outputs": [
    {
     "name": "stdout",
     "output_type": "stream",
     "text": [
      "     Name    HEX    RGB  sales\n",
      "0   False  False  False  False\n",
      "1   False  False  False  False\n",
      "2   False  False  False  False\n",
      "3   False  False  False   True\n",
      "4   False  False  False  False\n",
      "5   False  False  False  False\n",
      "6    True  False  False  False\n",
      "7   False  False  False  False\n",
      "8   False   True  False  False\n",
      "9   False  False  False  False\n",
      "10  False  False  False  False\n",
      "11  False  False  False  False\n",
      "12  False  False   True  False\n",
      "13   True  False  False  False\n",
      "14  False  False  False  False\n",
      "15  False   True  False  False\n"
     ]
    }
   ],
   "source": [
    "print(missdf.isnull())"
   ]
  },
  {
   "cell_type": "code",
   "execution_count": 19,
   "metadata": {},
   "outputs": [
    {
     "name": "stdout",
     "output_type": "stream",
     "text": [
      "Name     2\n",
      "HEX      2\n",
      "RGB      1\n",
      "sales    1\n",
      "dtype: int64\n"
     ]
    }
   ],
   "source": [
    "print(missdf.isnull().sum())"
   ]
  },
  {
   "cell_type": "code",
   "execution_count": 21,
   "metadata": {},
   "outputs": [],
   "source": [
    "# filling all NaN with zero\n",
    "#missdf.fillna(0)\n",
    "# it is not  A good chice"
   ]
  },
  {
   "cell_type": "code",
   "execution_count": 23,
   "metadata": {},
   "outputs": [
    {
     "data": {
      "text/html": [
       "<div>\n",
       "<style scoped>\n",
       "    .dataframe tbody tr th:only-of-type {\n",
       "        vertical-align: middle;\n",
       "    }\n",
       "\n",
       "    .dataframe tbody tr th {\n",
       "        vertical-align: top;\n",
       "    }\n",
       "\n",
       "    .dataframe thead th {\n",
       "        text-align: right;\n",
       "    }\n",
       "</style>\n",
       "<table border=\"1\" class=\"dataframe\">\n",
       "  <thead>\n",
       "    <tr style=\"text-align: right;\">\n",
       "      <th></th>\n",
       "      <th>Name</th>\n",
       "      <th>HEX</th>\n",
       "      <th>RGB</th>\n",
       "      <th>sales</th>\n",
       "    </tr>\n",
       "  </thead>\n",
       "  <tbody>\n",
       "    <tr>\n",
       "      <th>0</th>\n",
       "      <td>White</td>\n",
       "      <td>#FFFFFF</td>\n",
       "      <td>rgb(100,100,100)</td>\n",
       "      <td>12.000000</td>\n",
       "    </tr>\n",
       "    <tr>\n",
       "      <th>1</th>\n",
       "      <td>Silver</td>\n",
       "      <td>#C0C0C0</td>\n",
       "      <td>rgb(75,75,75)</td>\n",
       "      <td>22.000000</td>\n",
       "    </tr>\n",
       "    <tr>\n",
       "      <th>2</th>\n",
       "      <td>Gray</td>\n",
       "      <td>#808080</td>\n",
       "      <td>rgb(50,50,50)</td>\n",
       "      <td>34.000000</td>\n",
       "    </tr>\n",
       "    <tr>\n",
       "      <th>3</th>\n",
       "      <td>Black</td>\n",
       "      <td>#000000</td>\n",
       "      <td>rgb(0,0,0)</td>\n",
       "      <td>36.266667</td>\n",
       "    </tr>\n",
       "    <tr>\n",
       "      <th>4</th>\n",
       "      <td>Red</td>\n",
       "      <td>#FF0000</td>\n",
       "      <td>rgb(100,0,0)</td>\n",
       "      <td>45.000000</td>\n",
       "    </tr>\n",
       "    <tr>\n",
       "      <th>5</th>\n",
       "      <td>Maroon</td>\n",
       "      <td>#800000</td>\n",
       "      <td>rgb(50,0,0)</td>\n",
       "      <td>56.000000</td>\n",
       "    </tr>\n",
       "    <tr>\n",
       "      <th>6</th>\n",
       "      <td>36.266667</td>\n",
       "      <td>#FFFF00</td>\n",
       "      <td>rgb(100,100,0)</td>\n",
       "      <td>75.000000</td>\n",
       "    </tr>\n",
       "    <tr>\n",
       "      <th>7</th>\n",
       "      <td>Olive</td>\n",
       "      <td>#808000</td>\n",
       "      <td>rgb(50,50,0)</td>\n",
       "      <td>35.000000</td>\n",
       "    </tr>\n",
       "    <tr>\n",
       "      <th>8</th>\n",
       "      <td>Lime</td>\n",
       "      <td>36.266667</td>\n",
       "      <td>rgb(0,100,0)</td>\n",
       "      <td>25.000000</td>\n",
       "    </tr>\n",
       "    <tr>\n",
       "      <th>9</th>\n",
       "      <td>Green</td>\n",
       "      <td>#008000</td>\n",
       "      <td>rgb(0,50,0)</td>\n",
       "      <td>53.000000</td>\n",
       "    </tr>\n",
       "    <tr>\n",
       "      <th>10</th>\n",
       "      <td>Aqua</td>\n",
       "      <td>#00FFFF</td>\n",
       "      <td>rgb(0,100,100)</td>\n",
       "      <td>10.000000</td>\n",
       "    </tr>\n",
       "    <tr>\n",
       "      <th>11</th>\n",
       "      <td>Teal</td>\n",
       "      <td>#008080</td>\n",
       "      <td>rgb(0,50,50)</td>\n",
       "      <td>29.000000</td>\n",
       "    </tr>\n",
       "    <tr>\n",
       "      <th>12</th>\n",
       "      <td>Blue</td>\n",
       "      <td>#0000FF</td>\n",
       "      <td>36.266667</td>\n",
       "      <td>27.000000</td>\n",
       "    </tr>\n",
       "    <tr>\n",
       "      <th>13</th>\n",
       "      <td>36.266667</td>\n",
       "      <td>#000080</td>\n",
       "      <td>rgb(0,0,50)</td>\n",
       "      <td>33.000000</td>\n",
       "    </tr>\n",
       "    <tr>\n",
       "      <th>14</th>\n",
       "      <td>Fuchsia</td>\n",
       "      <td>#FF00FF</td>\n",
       "      <td>rgb(100,0,100)</td>\n",
       "      <td>62.000000</td>\n",
       "    </tr>\n",
       "    <tr>\n",
       "      <th>15</th>\n",
       "      <td>Purple</td>\n",
       "      <td>36.266667</td>\n",
       "      <td>rgb(50,0,50)</td>\n",
       "      <td>26.000000</td>\n",
       "    </tr>\n",
       "  </tbody>\n",
       "</table>\n",
       "</div>"
      ],
      "text/plain": [
       "         Name        HEX               RGB      sales\n",
       "0       White    #FFFFFF  rgb(100,100,100)  12.000000\n",
       "1      Silver    #C0C0C0     rgb(75,75,75)  22.000000\n",
       "2        Gray    #808080     rgb(50,50,50)  34.000000\n",
       "3       Black    #000000        rgb(0,0,0)  36.266667\n",
       "4         Red    #FF0000      rgb(100,0,0)  45.000000\n",
       "5      Maroon    #800000       rgb(50,0,0)  56.000000\n",
       "6   36.266667    #FFFF00    rgb(100,100,0)  75.000000\n",
       "7       Olive    #808000      rgb(50,50,0)  35.000000\n",
       "8        Lime  36.266667      rgb(0,100,0)  25.000000\n",
       "9       Green    #008000       rgb(0,50,0)  53.000000\n",
       "10       Aqua    #00FFFF    rgb(0,100,100)  10.000000\n",
       "11       Teal    #008080      rgb(0,50,50)  29.000000\n",
       "12       Blue    #0000FF         36.266667  27.000000\n",
       "13  36.266667    #000080       rgb(0,0,50)  33.000000\n",
       "14    Fuchsia    #FF00FF    rgb(100,0,100)  62.000000\n",
       "15     Purple  36.266667      rgb(50,0,50)  26.000000"
      ]
     },
     "execution_count": 23,
     "metadata": {},
     "output_type": "execute_result"
    }
   ],
   "source": [
    "# filling the null with mean will be better\n",
    "missdf.fillna(missdf[\"sales\"].mean()) # not a good try"
   ]
  },
  {
   "cell_type": "code",
   "execution_count": 25,
   "metadata": {},
   "outputs": [],
   "source": [
    "missdf[\"sales_fill\"]= missdf[\"sales\"].fillna(missdf[\"sales\"].mean())"
   ]
  },
  {
   "cell_type": "code",
   "execution_count": 38,
   "metadata": {},
   "outputs": [
    {
     "name": "stdout",
     "output_type": "stream",
     "text": [
      "     Name Colour Code               RGB  sales  sales_fill  int_sale  Prise\n",
      "0   White     #FFFFFF  rgb(100,100,100)   12.0   12.000000        12     60\n",
      "1  Silver     #C0C0C0     rgb(75,75,75)   22.0   22.000000        22    110\n",
      "2    Gray     #808080     rgb(50,50,50)   34.0   34.000000        34    170\n",
      "3   Black     #000000        rgb(0,0,0)    NaN   36.266667        36    180\n",
      "4     Red     #FF0000      rgb(100,0,0)   45.0   45.000000        45    225\n"
     ]
    }
   ],
   "source": [
    "print(missdf.head(5))"
   ]
  },
  {
   "cell_type": "code",
   "execution_count": 28,
   "metadata": {},
   "outputs": [
    {
     "name": "stdout",
     "output_type": "stream",
     "text": [
      "Name           object\n",
      "HEX            object\n",
      "RGB            object\n",
      "sales         float64\n",
      "sales_fill    float64\n",
      "dtype: object\n"
     ]
    }
   ],
   "source": [
    "print(missdf.dtypes)"
   ]
  },
  {
   "cell_type": "code",
   "execution_count": 29,
   "metadata": {},
   "outputs": [],
   "source": [
    "missdf = missdf.rename(columns={\"HEX\":\"Colour Code\"})"
   ]
  },
  {
   "cell_type": "code",
   "execution_count": 37,
   "metadata": {},
   "outputs": [
    {
     "name": "stdout",
     "output_type": "stream",
     "text": [
      "     Name Colour Code               RGB  sales  sales_fill  int_sale  Prise\n",
      "0   White     #FFFFFF  rgb(100,100,100)   12.0   12.000000        12     60\n",
      "1  Silver     #C0C0C0     rgb(75,75,75)   22.0   22.000000        22    110\n",
      "2    Gray     #808080     rgb(50,50,50)   34.0   34.000000        34    170\n",
      "3   Black     #000000        rgb(0,0,0)    NaN   36.266667        36    180\n",
      "4     Red     #FF0000      rgb(100,0,0)   45.0   45.000000        45    225\n"
     ]
    }
   ],
   "source": [
    "print(missdf.head(5))"
   ]
  },
  {
   "cell_type": "code",
   "execution_count": 31,
   "metadata": {},
   "outputs": [],
   "source": [
    "missdf[\"int_sale\"]= missdf[\"sales_fill\"].astype(int)"
   ]
  },
  {
   "cell_type": "code",
   "execution_count": 36,
   "metadata": {},
   "outputs": [
    {
     "name": "stdout",
     "output_type": "stream",
     "text": [
      "     Name Colour Code               RGB  sales  sales_fill  int_sale  Prise\n",
      "0   White     #FFFFFF  rgb(100,100,100)   12.0   12.000000        12     60\n",
      "1  Silver     #C0C0C0     rgb(75,75,75)   22.0   22.000000        22    110\n",
      "2    Gray     #808080     rgb(50,50,50)   34.0   34.000000        34    170\n",
      "3   Black     #000000        rgb(0,0,0)    NaN   36.266667        36    180\n",
      "4     Red     #FF0000      rgb(100,0,0)   45.0   45.000000        45    225\n"
     ]
    }
   ],
   "source": [
    "print(missdf.head(5))"
   ]
  },
  {
   "cell_type": "code",
   "execution_count": 33,
   "metadata": {},
   "outputs": [],
   "source": [
    "missdf[\"Prise\"]= missdf[\"int_sale\"].apply(lambda x:x*5)"
   ]
  },
  {
   "cell_type": "code",
   "execution_count": 35,
   "metadata": {},
   "outputs": [
    {
     "name": "stdout",
     "output_type": "stream",
     "text": [
      "     Name Colour Code               RGB  sales  sales_fill  int_sale  Prise\n",
      "0   White     #FFFFFF  rgb(100,100,100)   12.0   12.000000        12     60\n",
      "1  Silver     #C0C0C0     rgb(75,75,75)   22.0   22.000000        22    110\n",
      "2    Gray     #808080     rgb(50,50,50)   34.0   34.000000        34    170\n",
      "3   Black     #000000        rgb(0,0,0)    NaN   36.266667        36    180\n",
      "4     Red     #FF0000      rgb(100,0,0)   45.0   45.000000        45    225\n"
     ]
    }
   ],
   "source": [
    "print(missdf.head(5))"
   ]
  },
  {
   "cell_type": "code",
   "execution_count": 39,
   "metadata": {},
   "outputs": [],
   "source": [
    "missdf.to_csv(\"t29_z.csv\")"
   ]
  },
  {
   "cell_type": "code",
   "execution_count": null,
   "metadata": {},
   "outputs": [],
   "source": []
  }
 ],
 "metadata": {
  "kernelspec": {
   "display_name": "base",
   "language": "python",
   "name": "python3"
  },
  "language_info": {
   "codemirror_mode": {
    "name": "ipython",
    "version": 3
   },
   "file_extension": ".py",
   "mimetype": "text/x-python",
   "name": "python",
   "nbconvert_exporter": "python",
   "pygments_lexer": "ipython3",
   "version": "3.11.7"
  }
 },
 "nbformat": 4,
 "nbformat_minor": 2
}
