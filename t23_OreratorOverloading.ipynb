{
 "cells": [
  {
   "cell_type": "code",
   "execution_count": 5,
   "metadata": {},
   "outputs": [
    {
     "name": "stdout",
     "output_type": "stream",
     "text": [
      "0\n"
     ]
    }
   ],
   "source": [
    "print(1-1)"
   ]
  },
  {
   "cell_type": "code",
   "execution_count": 6,
   "metadata": {},
   "outputs": [
    {
     "name": "stdout",
     "output_type": "stream",
     "text": [
      "True\n"
     ]
    }
   ],
   "source": [
    "print(12>6)"
   ]
  },
  {
   "cell_type": "code",
   "execution_count": 15,
   "metadata": {},
   "outputs": [
    {
     "name": "stdout",
     "output_type": "stream",
     "text": [
      "VEctor (7,12)\n",
      "VEctor (7,12)\n",
      "VEctor (-3,-2)\n",
      "(False, False)\n"
     ]
    }
   ],
   "source": [
    "# these operators have there predefined function \n",
    "# we can overwrite these operator methods as well\n",
    "class vector:\n",
    "    def __init__(self,x,y):\n",
    "        self.x= x\n",
    "        self.y= y\n",
    "    def __add__(self,other):    #these inbuilt method take two same type of argument\n",
    "        return vector(self.x + other.x,self.y+other.y)      # it is type casting\n",
    "    def __sub__(self,other):\n",
    "        return vector(self.x-other.x,self.y-other.y)\n",
    "    def __mul__(self,other):\n",
    "        return vector(self.x*other.x ,self.y*other.y)\n",
    "    def __eq__(self,other):\n",
    "        return self.x==other.x,self.y==other.y\n",
    "    def __repr__(self):\n",
    "        return f\"VEctor ({self.x},{self.y})\"\n",
    "\n",
    "v1= vector(2,5)\n",
    "v2= vector(5,7)\n",
    "print(v1+v2)\n",
    "v3 = v1+v2\n",
    "print(v3)\n",
    "v4 = v1-v2\n",
    "print(v4)\n",
    "print(v3==v4)\n",
    "# So here we have defined our own summation style for the objects of class"
   ]
  },
  {
   "cell_type": "markdown",
   "metadata": {},
   "source": [
    "# CustomException Handelling"
   ]
  },
  {
   "cell_type": "code",
   "execution_count": 23,
   "metadata": {},
   "outputs": [],
   "source": [
    "# raising our own exception\n",
    "\n",
    "class Error(Exception):\n",
    "    pass\n",
    "class dobError(Error):\n",
    "    pass\n"
   ]
  },
  {
   "cell_type": "code",
   "execution_count": 27,
   "metadata": {},
   "outputs": [
    {
     "name": "stdout",
     "output_type": "stream",
     "text": [
      "Exam is open for you\n"
     ]
    }
   ],
   "source": [
    "try:\n",
    "    year = int(input(\"Enter the birth year\"))\n",
    "except ValueError:\n",
    "    print(\"PLs enter the valied year\")\n",
    "else:\n",
    "    ge = 2024-year\n",
    "    try:\n",
    "        if ge>=20 and ge<=30:\n",
    "            print(\"Exam is open for you\")\n",
    "        else:\n",
    "            raise dobError\n",
    "    except dobError:\n",
    "        print(\"You are not eligible\")\n"
   ]
  },
  {
   "cell_type": "code",
   "execution_count": null,
   "metadata": {},
   "outputs": [],
   "source": []
  }
 ],
 "metadata": {
  "kernelspec": {
   "display_name": "base",
   "language": "python",
   "name": "python3"
  },
  "language_info": {
   "codemirror_mode": {
    "name": "ipython",
    "version": 3
   },
   "file_extension": ".py",
   "mimetype": "text/x-python",
   "name": "python",
   "nbconvert_exporter": "python",
   "pygments_lexer": "ipython3",
   "version": "3.11.7"
  }
 },
 "nbformat": 4,
 "nbformat_minor": 2
}
