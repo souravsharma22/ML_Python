{
 "cells": [
  {
   "cell_type": "code",
   "execution_count": 1,
   "metadata": {},
   "outputs": [
    {
     "name": "stdout",
     "output_type": "stream",
     "text": [
      "<__main__.dog object at 0x0000022EA3E40290>\n",
      "<__main__.dog object at 0x0000022EA3E40090>\n"
     ]
    }
   ],
   "source": [
    "#Classes are blueprint for the objects\n",
    "# __init__() this is th constructor and very important to set attributes for objects\n",
    "class dog:\n",
    "    def __init__(self,name,breed,age):\n",
    "        self.name = name\n",
    "        self.breed = breed\n",
    "        self.age = age\n",
    "\n",
    "d1 = dog(\"Lucy\",\"Street\",3)\n",
    "d2 = dog(\"Joffry\",\"Hybrid\",7)\n",
    "print(d1)\n",
    "print(d2)\n"
   ]
  },
  {
   "cell_type": "code",
   "execution_count": 2,
   "metadata": {},
   "outputs": [
    {
     "name": "stdout",
     "output_type": "stream",
     "text": [
      "Lucy\n"
     ]
    }
   ],
   "source": [
    "print(d1.name)"
   ]
  },
  {
   "cell_type": "code",
   "execution_count": 3,
   "metadata": {},
   "outputs": [
    {
     "name": "stdout",
     "output_type": "stream",
     "text": [
      "Joffry\n",
      "7\n",
      "Hybrid\n"
     ]
    }
   ],
   "source": [
    "print(d2.name)\n",
    "print(d2.age)\n",
    "print(d2.breed)"
   ]
  },
  {
   "cell_type": "code",
   "execution_count": 4,
   "metadata": {},
   "outputs": [
    {
     "name": "stdout",
     "output_type": "stream",
     "text": [
      "['__class__', '__delattr__', '__dict__', '__dir__', '__doc__', '__eq__', '__format__', '__ge__', '__getattribute__', '__getstate__', '__gt__', '__hash__', '__init__', '__init_subclass__', '__le__', '__lt__', '__module__', '__ne__', '__new__', '__reduce__', '__reduce_ex__', '__repr__', '__setattr__', '__sizeof__', '__str__', '__subclasshook__', '__weakref__', 'age', 'breed', 'name']\n"
     ]
    }
   ],
   "source": [
    "print(dir(d2))"
   ]
  },
  {
   "cell_type": "code",
   "execution_count": 6,
   "metadata": {},
   "outputs": [
    {
     "name": "stdout",
     "output_type": "stream",
     "text": [
      "GTR-r34 V8\n",
      "This GTR-r34 V8 has a top speed of 500 Kmph\n"
     ]
    }
   ],
   "source": [
    "# class can have methods\n",
    "class car:\n",
    "    def __init__(self,name,company,prise):\n",
    "        self.name = name\n",
    "        self.prise = prise\n",
    "        self.company = company\n",
    "    def topspeed(self):\n",
    "        ts = len(self.name)*50\n",
    "        print(f\"This {self.name} has a top speed of {ts} Kmph\")\n",
    "\n",
    "ferari1= car(\"Roma\",\"Ferari\",\"2.3Cr\")\n",
    "ferari2= car(\"F8 Turbo\",\"Ferari\",\"1.3Cr\")\n",
    "gt2= car(\"GTR-r34 V8\",\"Nissan\",\"2.5Cr\")\n",
    "print(gt2.name)\n",
    "gt2.topspeed()"
   ]
  },
  {
   "cell_type": "code",
   "execution_count": 7,
   "metadata": {},
   "outputs": [
    {
     "name": "stdout",
     "output_type": "stream",
     "text": [
      "The amount of 10000 has been deposited successfuly\n",
      "The current balance in the account is 32000\n"
     ]
    }
   ],
   "source": [
    "#Modelling a bank account using class\n",
    "\n",
    "class BankAccount:\n",
    "    def __init__(self,owner,balance=0) :\n",
    "        self.owner = owner\n",
    "        self.balance = balance\n",
    "    def deposite(self,amount):\n",
    "        self.balance += amount\n",
    "        print(f\"The amount of {amount} has been deposited successfuly\")\n",
    "        print(f\"The current balance in the account is {self.balance}\")\n",
    "    def withdrar(self,amount):\n",
    "        if amount<self.balance:\n",
    "            balance -= amount\n",
    "            print(f\"The amount of {amount} has been withdrawn successfuly\")\n",
    "            print(f\"The current balance in the account is {self.balance}\")\n",
    "        else:\n",
    "            print(\"Account have insuffient balance\")\n",
    "\n",
    "a1 = BankAccount(\"Sourav\",22000)\n",
    "a2 = BankAccount(\"Aftab\",5000)\n",
    "a1.deposite(10000)"
   ]
  },
  {
   "cell_type": "code",
   "execution_count": 8,
   "metadata": {},
   "outputs": [
    {
     "name": "stdout",
     "output_type": "stream",
     "text": [
      "32000\n"
     ]
    }
   ],
   "source": [
    "print(a1.balance)"
   ]
  },
  {
   "cell_type": "code",
   "execution_count": 9,
   "metadata": {},
   "outputs": [
    {
     "name": "stdout",
     "output_type": "stream",
     "text": [
      "The amount of 3500 has been deposited successfuly\n",
      "The current balance in the account is 8500\n"
     ]
    }
   ],
   "source": [
    "a2.deposite(3500)"
   ]
  },
  {
   "cell_type": "code",
   "execution_count": 10,
   "metadata": {},
   "outputs": [
    {
     "name": "stdout",
     "output_type": "stream",
     "text": [
      "8500\n"
     ]
    }
   ],
   "source": [
    "print(a2.balance)"
   ]
  }
 ],
 "metadata": {
  "kernelspec": {
   "display_name": "base",
   "language": "python",
   "name": "python3"
  },
  "language_info": {
   "codemirror_mode": {
    "name": "ipython",
    "version": 3
   },
   "file_extension": ".py",
   "mimetype": "text/x-python",
   "name": "python",
   "nbconvert_exporter": "python",
   "pygments_lexer": "ipython3",
   "version": "3.11.7"
  }
 },
 "nbformat": 4,
 "nbformat_minor": 2
}
