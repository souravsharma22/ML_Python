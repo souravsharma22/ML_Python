{
 "cells": [
  {
   "cell_type": "code",
   "execution_count": 1,
   "metadata": {},
   "outputs": [],
   "source": [
    "import pandas as pd"
   ]
  },
  {
   "cell_type": "code",
   "execution_count": 2,
   "metadata": {},
   "outputs": [
    {
     "name": "stdout",
     "output_type": "stream",
     "text": [
      "0    1\n",
      "1    2\n",
      "2    3\n",
      "3    4\n",
      "4    5\n",
      "5    6\n",
      "dtype: int64\n"
     ]
    }
   ],
   "source": [
    "data1= [1,2,3,4,5,6]\n",
    "series1 = pd.Series(data1)\n",
    "print(series1)"
   ]
  },
  {
   "cell_type": "code",
   "execution_count": 4,
   "metadata": {},
   "outputs": [
    {
     "name": "stdout",
     "output_type": "stream",
     "text": [
      "a    1\n",
      "b    2\n",
      "c    3\n",
      "d    4\n",
      "e    5\n",
      "dtype: int64\n"
     ]
    }
   ],
   "source": [
    "# creating series from the dictionary\n",
    "dis1 = {'a':1,'b':2,'c':3,\"d\":4,\"e\":5}\n",
    "series2 = pd.Series(dis1)\n",
    "print(series2)"
   ]
  },
  {
   "cell_type": "markdown",
   "metadata": {},
   "source": [
    "# dataFrames"
   ]
  },
  {
   "cell_type": "code",
   "execution_count": 5,
   "metadata": {},
   "outputs": [
    {
     "name": "stdout",
     "output_type": "stream",
     "text": [
      "      Name  age      City\n",
      "0   SOurav   21  Banglore\n",
      "1   Subhan   24  Hydrabad\n",
      "2  Sumojot   21   Kolkata\n",
      "3    Aftab   25     Patna\n"
     ]
    }
   ],
   "source": [
    "dis2 = {\n",
    "    \"Name\":[\"SOurav\",\"Subhan\",\"Sumojot\",\"Aftab\"],\n",
    "    \"age\":[21,24,21,25],\n",
    "    \"City\":[\"Banglore\",\"Hydrabad\",\"Kolkata\",\"Patna\"]\n",
    "}\n",
    "\n",
    "df = pd.DataFrame(dis2)\n",
    "print(df)"
   ]
  },
  {
   "cell_type": "code",
   "execution_count": 6,
   "metadata": {},
   "outputs": [
    {
     "name": "stdout",
     "output_type": "stream",
     "text": [
      "           Name  age           Profession  Salary\n",
      "0        SOurav   21        data Engineer     2.5\n",
      "1      Soumajit   20    Electric Engineer     1.0\n",
      "2        Aniket   24  Mechanical Engineer     1.2\n",
      "3  Harshbardhan   23       Civil Engineer     1.5\n"
     ]
    }
   ],
   "source": [
    "# crearting data frame from the list of dictinary\n",
    "list_data =[\n",
    "    {\"Name\":\"SOurav\",\"age\":21,\"Profession\":\"data Engineer\",\"Salary\":2.5},\n",
    "    {\"Name\":\"Soumajit\",\"age\":20,\"Profession\":\"Electric Engineer\",\"Salary\":1.0},\n",
    "    {\"Name\":\"Aniket\",\"age\":24,\"Profession\":\"Mechanical Engineer\",\"Salary\":1.2},\n",
    "    {\"Name\":\"Harshbardhan\",\"age\":23,\"Profession\":\"Civil Engineer\",\"Salary\":1.5},\n",
    "]\n",
    "df2 = pd.DataFrame(list_data)\n",
    "print(df2)"
   ]
  },
  {
   "cell_type": "code",
   "execution_count": 7,
   "metadata": {},
   "outputs": [
    {
     "name": "stdout",
     "output_type": "stream",
     "text": [
      "2.5\n"
     ]
    },
    {
     "name": "stderr",
     "output_type": "stream",
     "text": [
      "C:\\Users\\hp\\AppData\\Local\\Temp\\ipykernel_3572\\784117792.py:1: FutureWarning: Series.__getitem__ treating keys as positions is deprecated. In a future version, integer keys will always be treated as labels (consistent with DataFrame behavior). To access a value by position, use `ser.iloc[pos]`\n",
      "  print(df2.iloc[0][3])\n"
     ]
    }
   ],
   "source": [
    "print(df2.iloc[0][3])"
   ]
  },
  {
   "cell_type": "code",
   "execution_count": 10,
   "metadata": {},
   "outputs": [
    {
     "name": "stdout",
     "output_type": "stream",
     "text": [
      "SOurav\n"
     ]
    }
   ],
   "source": [
    "print(df2.loc[0,\"Name\"])"
   ]
  },
  {
   "cell_type": "code",
   "execution_count": 11,
   "metadata": {},
   "outputs": [
    {
     "name": "stdout",
     "output_type": "stream",
     "text": [
      "Aniket\n"
     ]
    }
   ],
   "source": [
    "print(df2.at[2,\"Name\"])"
   ]
  },
  {
   "cell_type": "code",
   "execution_count": 12,
   "metadata": {},
   "outputs": [
    {
     "name": "stdout",
     "output_type": "stream",
     "text": [
      "1.2\n"
     ]
    }
   ],
   "source": [
    "print(df2.iat[2,3])"
   ]
  },
  {
   "cell_type": "code",
   "execution_count": 13,
   "metadata": {},
   "outputs": [
    {
     "name": "stdout",
     "output_type": "stream",
     "text": [
      "           Name  age           Profession  Salary      city\n",
      "0        SOurav   21        data Engineer     2.5  Banglore\n",
      "1      Soumajit   20    Electric Engineer     1.0     Patna\n",
      "2        Aniket   24  Mechanical Engineer     1.2    Mumbai\n",
      "3  Harshbardhan   23       Civil Engineer     1.5     Noida\n"
     ]
    }
   ],
   "source": [
    "df2[\"city\"]=[\"Banglore\",\"Patna\",\"Mumbai\",\"Noida\"]\n",
    "print(df2)"
   ]
  },
  {
   "cell_type": "code",
   "execution_count": 14,
   "metadata": {},
   "outputs": [],
   "source": [
    "#data manipulations \n",
    "df2.drop(\"Salary\",axis=1,inplace=True)\n",
    "#axis = 1, defines that we need to find \"Salary\" in column\n",
    "# by default search is done in indexx row"
   ]
  },
  {
   "cell_type": "code",
   "execution_count": 15,
   "metadata": {},
   "outputs": [
    {
     "name": "stdout",
     "output_type": "stream",
     "text": [
      "           Name  age           Profession      city\n",
      "0        SOurav   21        data Engineer  Banglore\n",
      "1      Soumajit   20    Electric Engineer     Patna\n",
      "2        Aniket   24  Mechanical Engineer    Mumbai\n",
      "3  Harshbardhan   23       Civil Engineer     Noida\n"
     ]
    }
   ],
   "source": [
    "print(df2)"
   ]
  },
  {
   "cell_type": "code",
   "execution_count": 16,
   "metadata": {},
   "outputs": [
    {
     "name": "stdout",
     "output_type": "stream",
     "text": [
      "           Name  age           Profession      city\n",
      "0        SOurav   31        data Engineer  Banglore\n",
      "1      Soumajit   30    Electric Engineer     Patna\n",
      "2        Aniket   34  Mechanical Engineer    Mumbai\n",
      "3  Harshbardhan   33       Civil Engineer     Noida\n"
     ]
    }
   ],
   "source": [
    "df2[\"age\"]= df2[\"age\"]+10\n",
    "print(df2)"
   ]
  },
  {
   "cell_type": "code",
   "execution_count": 17,
   "metadata": {},
   "outputs": [
    {
     "name": "stdout",
     "output_type": "stream",
     "text": [
      "       Name  age           Profession      city\n",
      "0    SOurav   31        data Engineer  Banglore\n",
      "1  Soumajit   30    Electric Engineer     Patna\n",
      "2    Aniket   34  Mechanical Engineer    Mumbai\n"
     ]
    }
   ],
   "source": [
    "# deleting a row\n",
    "df2.drop(3,inplace=True)\n",
    "print(df2)"
   ]
  },
  {
   "cell_type": "code",
   "execution_count": 18,
   "metadata": {},
   "outputs": [
    {
     "name": "stdout",
     "output_type": "stream",
     "text": [
      "             age\n",
      "count   3.000000\n",
      "mean   31.666667\n",
      "std     2.081666\n",
      "min    30.000000\n",
      "25%    30.500000\n",
      "50%    31.000000\n",
      "75%    32.500000\n",
      "max    34.000000\n"
     ]
    }
   ],
   "source": [
    "print(df2.describe())\n",
    "# it gives details of integer data"
   ]
  }
 ],
 "metadata": {
  "kernelspec": {
   "display_name": "base",
   "language": "python",
   "name": "python3"
  },
  "language_info": {
   "codemirror_mode": {
    "name": "ipython",
    "version": 3
   },
   "file_extension": ".py",
   "mimetype": "text/x-python",
   "name": "python",
   "nbconvert_exporter": "python",
   "pygments_lexer": "ipython3",
   "version": "3.11.7"
  }
 },
 "nbformat": 4,
 "nbformat_minor": 2
}
