{
 "cells": [
  {
   "cell_type": "markdown",
   "metadata": {},
   "source": [
    "## SQL and SQLite\n",
    "### Structed Query Language is a standard language for managing and manipulating relational database"
   ]
  },
  {
   "cell_type": "code",
   "execution_count": 15,
   "metadata": {},
   "outputs": [],
   "source": [
    "import sqlite3"
   ]
  },
  {
   "cell_type": "code",
   "execution_count": 16,
   "metadata": {},
   "outputs": [],
   "source": [
    "connection1 = sqlite3.connect('t34_Example.db')\n",
    "cursor1 = connection1.cursor()\n"
   ]
  },
  {
   "cell_type": "code",
   "execution_count": 17,
   "metadata": {},
   "outputs": [],
   "source": [
    "cursor1.execute('''\n",
    "create Table If Not Exists employees(\n",
    "    id Integer Primary Key,\n",
    "    name Text Not null,            \n",
    "    age Integer,\n",
    "    department Text\n",
    "    )\n",
    "''')\n",
    "\n",
    "connection1.commit()"
   ]
  },
  {
   "cell_type": "code",
   "execution_count": 18,
   "metadata": {},
   "outputs": [
    {
     "data": {
      "text/plain": [
       "<sqlite3.Cursor at 0x2496c1b8ac0>"
      ]
     },
     "execution_count": 18,
     "metadata": {},
     "output_type": "execute_result"
    }
   ],
   "source": [
    "cursor1.execute('''\n",
    "Select * from employees\n",
    "''')"
   ]
  },
  {
   "cell_type": "code",
   "execution_count": 19,
   "metadata": {},
   "outputs": [],
   "source": [
    "cursor1.execute('''\n",
    "Insert Into employees(name,age,department)\n",
    "                VALUES(\"Sourav\",21,\"data_scientist\")\n",
    "''')\n",
    "\n",
    "cursor1.execute('''\n",
    "Insert Into employees(name,age,department)\n",
    "                VALUES(\"Aniket\",22,\"Mechanical_Engineer\")\n",
    "''')\n",
    "connection1.commit()"
   ]
  },
  {
   "cell_type": "code",
   "execution_count": 20,
   "metadata": {},
   "outputs": [],
   "source": [
    "cursor1.execute('''\n",
    "Insert Into employees(name,age,department)\n",
    "                VALUES(\"Soumojit\",21,\"Electrical_Engineer\")\n",
    "''')\n",
    "\n",
    "cursor1.execute('''\n",
    "Insert Into employees(name,age,department)\n",
    "                VALUES(\"Harshbardhan\",22,\"Civil_Engineer\")\n",
    "''')\n",
    "connection1.commit()"
   ]
  },
  {
   "cell_type": "code",
   "execution_count": 21,
   "metadata": {},
   "outputs": [
    {
     "name": "stdout",
     "output_type": "stream",
     "text": [
      "(1, 'Sourav', 20, 'data_scientist')\n",
      "(2, 'Aniket', 22, 'Mechanical_Engineer')\n",
      "(3, 'Soumojit', 21, 'Electrical_Engineer')\n",
      "(4, 'Harshbardhan', 22, 'Civil_Engineer')\n",
      "(5, 'Sourav', 21, 'data_scientist')\n",
      "(6, 'Aniket', 22, 'Mechanical_Engineer')\n",
      "(7, 'Soumojit', 21, 'Electrical_Engineer')\n",
      "(8, 'Harshbardhan', 22, 'Civil_Engineer')\n"
     ]
    }
   ],
   "source": [
    "cursor1.execute(\"select * from employees\")\n",
    "rows = cursor1.fetchall()\n",
    "\n",
    "# printing the gathered data\n",
    "for row in rows:\n",
    "    print(row)"
   ]
  },
  {
   "cell_type": "code",
   "execution_count": 22,
   "metadata": {},
   "outputs": [],
   "source": [
    "# Upadating data in the dataset/table\n",
    "cursor1.execute('''\n",
    "UPDATE employees \n",
    "Set age = 20 \n",
    "Where name=\"Sourav\"\n",
    "''')\n",
    "\n",
    "connection1.commit()"
   ]
  },
  {
   "cell_type": "code",
   "execution_count": 23,
   "metadata": {},
   "outputs": [
    {
     "name": "stdout",
     "output_type": "stream",
     "text": [
      "(1, 'Sourav', 20, 'data_scientist')\n",
      "(2, 'Aniket', 22, 'Mechanical_Engineer')\n",
      "(3, 'Soumojit', 21, 'Electrical_Engineer')\n",
      "(4, 'Harshbardhan', 22, 'Civil_Engineer')\n",
      "(5, 'Sourav', 20, 'data_scientist')\n",
      "(6, 'Aniket', 22, 'Mechanical_Engineer')\n",
      "(7, 'Soumojit', 21, 'Electrical_Engineer')\n",
      "(8, 'Harshbardhan', 22, 'Civil_Engineer')\n"
     ]
    }
   ],
   "source": [
    "cursor1.execute(\"select * from employees\")\n",
    "rows = cursor1.fetchall()\n",
    "\n",
    "# printing the gathered data\n",
    "for row in rows:\n",
    "    print(row)"
   ]
  },
  {
   "cell_type": "code",
   "execution_count": 26,
   "metadata": {},
   "outputs": [],
   "source": [
    "# deleting the data \n",
    "cursor1.execute('''\n",
    "Delete from employees \n",
    "            where name =\"Harshbardhan\"\n",
    "''')\n",
    "connection1.commit()"
   ]
  },
  {
   "cell_type": "code",
   "execution_count": 27,
   "metadata": {},
   "outputs": [
    {
     "name": "stdout",
     "output_type": "stream",
     "text": [
      "(1, 'Sourav', 20, 'data_scientist')\n",
      "(2, 'Aniket', 22, 'Mechanical_Engineer')\n",
      "(3, 'Soumojit', 21, 'Electrical_Engineer')\n",
      "(5, 'Sourav', 20, 'data_scientist')\n",
      "(6, 'Aniket', 22, 'Mechanical_Engineer')\n",
      "(7, 'Soumojit', 21, 'Electrical_Engineer')\n"
     ]
    }
   ],
   "source": [
    "cursor1.execute(\"select * from employees\")\n",
    "rows = cursor1.fetchall()\n",
    "\n",
    "# printing the gathered data\n",
    "for row in rows:\n",
    "    print(row)"
   ]
  },
  {
   "cell_type": "code",
   "execution_count": 33,
   "metadata": {},
   "outputs": [],
   "source": [
    "# deleting the data \n",
    "cursor1.execute('''\n",
    "Delete from employees \n",
    "            where name =\"Sourav\"\n",
    "''')\n",
    "connection1.commit()"
   ]
  },
  {
   "cell_type": "code",
   "execution_count": 35,
   "metadata": {},
   "outputs": [
    {
     "name": "stdout",
     "output_type": "stream",
     "text": [
      "(2, 'Aniket', 22, 'Mechanical_Engineer')\n",
      "(3, 'Soumojit', 21, 'Electrical_Engineer')\n",
      "(6, 'Aniket', 22, 'Mechanical_Engineer')\n",
      "(7, 'Soumojit', 21, 'Electrical_Engineer')\n"
     ]
    }
   ],
   "source": [
    "cursor1.execute(\"select * from employees\")\n",
    "rows = cursor1.fetchall()\n",
    "\n",
    "# printing the gathered data\n",
    "for row in rows:\n",
    "    print(row)"
   ]
  },
  {
   "cell_type": "code",
   "execution_count": 42,
   "metadata": {},
   "outputs": [],
   "source": [
    "# deleting the data \n",
    "cursor1.execute('''\n",
    "Delete from employees \n",
    "            where name =\"Soumojit\"\n",
    "''')\n",
    "connection1.commit()\n",
    "# deleting the data \n",
    "cursor1.execute('''\n",
    "Delete from employees \n",
    "            where name =\"Aniket\"\n",
    "''')\n",
    "connection1.commit()"
   ]
  },
  {
   "cell_type": "code",
   "execution_count": 43,
   "metadata": {},
   "outputs": [],
   "source": [
    "cursor1.execute('''\n",
    "Insert Into employees(name,age,department)\n",
    "                VALUES(\"Sourav\",21,\"data_scientist\")\n",
    "''')\n",
    "\n",
    "cursor1.execute('''\n",
    "Insert Into employees(name,age,department)\n",
    "                VALUES(\"Aniket\",22,\"Mechanical_Engineer\")\n",
    "''')\n",
    "cursor1.execute('''\n",
    "Insert Into employees(name,age,department)\n",
    "                VALUES(\"Soumojit\",21,\"Electrical_Engineer\")\n",
    "''')\n",
    "\n",
    "cursor1.execute('''\n",
    "Insert Into employees(name,age,department)\n",
    "                VALUES(\"Harshbardhan\",22,\"Civil_Engineer\")\n",
    "''')\n",
    "connection1.commit()"
   ]
  },
  {
   "cell_type": "code",
   "execution_count": 45,
   "metadata": {},
   "outputs": [
    {
     "name": "stdout",
     "output_type": "stream",
     "text": [
      "(8, 'Sourav', 21, 'data_scientist')\n",
      "(11, 'Harshbardhan', 22, 'Civil_Engineer')\n",
      "(12, 'Sourav', 21, 'data_scientist')\n",
      "(13, 'Aniket', 22, 'Mechanical_Engineer')\n",
      "(14, 'Soumojit', 21, 'Electrical_Engineer')\n",
      "(15, 'Harshbardhan', 22, 'Civil_Engineer')\n"
     ]
    }
   ],
   "source": [
    "cursor1.execute(\"select * from employees\")\n",
    "rows = cursor1.fetchall()\n",
    "\n",
    "# printing the gathered data\n",
    "for row in rows:\n",
    "    print(row)"
   ]
  }
 ],
 "metadata": {
  "kernelspec": {
   "display_name": "base",
   "language": "python",
   "name": "python3"
  },
  "language_info": {
   "codemirror_mode": {
    "name": "ipython",
    "version": 3
   },
   "file_extension": ".py",
   "mimetype": "text/x-python",
   "name": "python",
   "nbconvert_exporter": "python",
   "pygments_lexer": "ipython3",
   "version": "3.11.7"
  }
 },
 "nbformat": 4,
 "nbformat_minor": 2
}
