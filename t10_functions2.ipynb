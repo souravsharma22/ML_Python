{
 "cells": [
  {
   "cell_type": "code",
   "execution_count": 2,
   "metadata": {},
   "outputs": [
    {
     "name": "stdout",
     "output_type": "stream",
     "text": [
      "77.0\n"
     ]
    }
   ],
   "source": [
    "#Emaples of function uses\n",
    "# temprature\n",
    "def temp_cov (val,unit):\n",
    "    if unit == 'C':\n",
    "        return val*9/5 +32\n",
    "    elif unit =='F':\n",
    "        return (val-32)*5/9\n",
    "    else:\n",
    "        return None\n",
    "print(temp_cov(25,'C'))"
   ]
  },
  {
   "cell_type": "code",
   "execution_count": 4,
   "metadata": {},
   "outputs": [
    {
     "name": "stdout",
     "output_type": "stream",
     "text": [
      "25.0\n"
     ]
    }
   ],
   "source": [
    "print(temp_cov(77,'F'))"
   ]
  },
  {
   "cell_type": "code",
   "execution_count": 5,
   "metadata": {},
   "outputs": [
    {
     "name": "stdout",
     "output_type": "stream",
     "text": [
      "False\n"
     ]
    }
   ],
   "source": [
    "# funcyion for checking password strength\n",
    "def isStrong(password):\n",
    "    value= True\n",
    "    if len(password)<8:\n",
    "        value=False\n",
    "    if not any(c.isdigit()  for c in password):\n",
    "        value=False\n",
    "    if not any(c.islower() for c in password):\n",
    "        value=False\n",
    "    if not any (c.isupper() for c in password):\n",
    "        value = False\n",
    "    if not any (c in \"!@#$%^&*()_+\" for c in password):\n",
    "        value = False\n",
    "    return value\n",
    "print(isStrong(\"sourav\"))"
   ]
  },
  {
   "cell_type": "code",
   "execution_count": 7,
   "metadata": {},
   "outputs": [
    {
     "name": "stdout",
     "output_type": "stream",
     "text": [
      "False\n"
     ]
    }
   ],
   "source": [
    "print(isStrong(\"sourav@22\"))"
   ]
  },
  {
   "cell_type": "code",
   "execution_count": 8,
   "metadata": {},
   "outputs": [
    {
     "name": "stdout",
     "output_type": "stream",
     "text": [
      "True\n"
     ]
    }
   ],
   "source": [
    "print(isStrong(\"Sourav@22\"))"
   ]
  },
  {
   "cell_type": "code",
   "execution_count": 9,
   "metadata": {},
   "outputs": [
    {
     "name": "stdout",
     "output_type": "stream",
     "text": [
      "310\n"
     ]
    }
   ],
   "source": [
    "# function for calculating prise of a cart\n",
    "#so for every item well have name ,prise and quantity\n",
    "def cart_prise(cart):\n",
    "    total= 0\n",
    "    for item in cart:\n",
    "        total += item[\"Rate\"]*item[\"Unit\"]\n",
    "    return total\n",
    "\n",
    "cart=[{\"Name\":\"Apple\",\"Rate\":25,\"Unit\":4},\n",
    "        {\"Name\":\"Mango\",\"Rate\":15,\"Unit\":10},\n",
    "        {\"Name\":\"Banana\",\"Rate\":5,\"Unit\":12}]\n",
    "print(cart_prise(cart))"
   ]
  },
  {
   "cell_type": "code",
   "execution_count": 10,
   "metadata": {},
   "outputs": [
    {
     "name": "stdout",
     "output_type": "stream",
     "text": [
      "True\n"
     ]
    }
   ],
   "source": [
    "#Checking if a string is a palindrome\n",
    "def is_palindrome(string):\n",
    "    string =string.lower().replace(\" \",\"\")\n",
    "    return string==string[::-1]\n",
    "print(is_palindrome(\"A man a plan a canal panama\"))"
   ]
  },
  {
   "cell_type": "code",
   "execution_count": 12,
   "metadata": {},
   "outputs": [
    {
     "name": "stdout",
     "output_type": "stream",
     "text": [
      "False\n"
     ]
    }
   ],
   "source": [
    "print(is_palindrome(\"aabbcc\"))"
   ]
  },
  {
   "cell_type": "code",
   "execution_count": 13,
   "metadata": {},
   "outputs": [
    {
     "name": "stdout",
     "output_type": "stream",
     "text": [
      "3628800\n"
     ]
    }
   ],
   "source": [
    "# recursive functiion for factorial finding\n",
    "def factorial(n):\n",
    "    if(n==0):\n",
    "        return 1\n",
    "    else:\n",
    "        return n*factorial(n-1)\n",
    "print(factorial(10))"
   ]
  },
  {
   "cell_type": "code",
   "execution_count": 14,
   "metadata": {},
   "outputs": [
    {
     "name": "stdout",
     "output_type": "stream",
     "text": [
      "120\n"
     ]
    }
   ],
   "source": [
    "print(factorial(5))"
   ]
  }
 ],
 "metadata": {
  "kernelspec": {
   "display_name": "base",
   "language": "python",
   "name": "python3"
  },
  "language_info": {
   "codemirror_mode": {
    "name": "ipython",
    "version": 3
   },
   "file_extension": ".py",
   "mimetype": "text/x-python",
   "name": "python",
   "nbconvert_exporter": "python",
   "pygments_lexer": "ipython3",
   "version": "3.11.7"
  }
 },
 "nbformat": 4,
 "nbformat_minor": 2
}
