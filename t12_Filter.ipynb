{
 "cells": [
  {
   "cell_type": "code",
   "execution_count": 12,
   "metadata": {},
   "outputs": [
    {
     "name": "stdout",
     "output_type": "stream",
     "text": [
      "None\n",
      "True\n",
      "None\n",
      "True\n",
      "None\n",
      "True\n",
      "None\n",
      "True\n",
      "None\n",
      "True\n"
     ]
    }
   ],
   "source": [
    "#filter function in python used to filture out items based on a condition\n",
    "list1 =[1,2,3,4,5,6,7,8,9,10]\n",
    "def even (n):\n",
    "    if n%2==0:\n",
    "        return True\n",
    "\n",
    "for n in list1:\n",
    "    print(even(n))"
   ]
  },
  {
   "cell_type": "code",
   "execution_count": 13,
   "metadata": {},
   "outputs": [
    {
     "name": "stdout",
     "output_type": "stream",
     "text": [
      "[2, 4, 6, 8, 10]\n"
     ]
    }
   ],
   "source": [
    "# using filtere function\n",
    "g5 = list(filter(even,list1))\n",
    "print(g5)"
   ]
  },
  {
   "cell_type": "code",
   "execution_count": 14,
   "metadata": {},
   "outputs": [
    {
     "name": "stdout",
     "output_type": "stream",
     "text": [
      "[6, 7, 8, 9, 10]\n"
     ]
    }
   ],
   "source": [
    "#using filter with lamda functiom\n",
    "g6 = list(filter(lambda x:x>5,list1))\n",
    "print(g6)"
   ]
  },
  {
   "cell_type": "code",
   "execution_count": 15,
   "metadata": {},
   "outputs": [
    {
     "name": "stdout",
     "output_type": "stream",
     "text": [
      "[6, 8, 10]\n"
     ]
    }
   ],
   "source": [
    "#using multiple condtion filtering\n",
    "g1 = list(filter(lambda x:x>5 and x%2==0,list1))\n",
    "print(g1)"
   ]
  },
  {
   "cell_type": "code",
   "execution_count": 17,
   "metadata": {},
   "outputs": [
    {
     "name": "stdout",
     "output_type": "stream",
     "text": [
      "[{'name': 'Gourav', 'Age': 25, 'Gender': 'male'}]\n"
     ]
    }
   ],
   "source": [
    "people = [{'name': 'Sourav', 'Age': 23, 'Gender': 'male'},\n",
    "{'name': 'Gourav', 'Age': 25, 'Gender': 'male'},\n",
    "{'name': 'Survi', 'Age': 20, 'Gender': 'Female'}]\n",
    "#we can not use direct lamnda function in dictionary type list\n",
    "def age_check(person):\n",
    "        return person['Age']>23\n",
    "g2 = list(filter(age_check,people))\n",
    "print(g2)"
   ]
  }
 ],
 "metadata": {
  "kernelspec": {
   "display_name": "base",
   "language": "python",
   "name": "python3"
  },
  "language_info": {
   "codemirror_mode": {
    "name": "ipython",
    "version": 3
   },
   "file_extension": ".py",
   "mimetype": "text/x-python",
   "name": "python",
   "nbconvert_exporter": "python",
   "pygments_lexer": "ipython3",
   "version": "3.11.7"
  }
 },
 "nbformat": 4,
 "nbformat_minor": 2
}
